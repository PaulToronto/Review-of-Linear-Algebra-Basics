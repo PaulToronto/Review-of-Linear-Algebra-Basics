{
  "nbformat": 4,
  "nbformat_minor": 0,
  "metadata": {
    "colab": {
      "provenance": [],
      "toc_visible": true,
      "authorship_tag": "ABX9TyMUchxj82G2xWAICLYW7Dl6",
      "include_colab_link": true
    },
    "kernelspec": {
      "name": "python3",
      "display_name": "Python 3"
    },
    "language_info": {
      "name": "python"
    }
  },
  "cells": [
    {
      "cell_type": "markdown",
      "metadata": {
        "id": "view-in-github",
        "colab_type": "text"
      },
      "source": [
        "<a href=\"https://colab.research.google.com/github/PaulToronto/Review-of-Linear-Algebra-Basics/blob/main/3_The_Dot_Product.ipynb\" target=\"_parent\"><img src=\"https://colab.research.google.com/assets/colab-badge.svg\" alt=\"Open In Colab\"/></a>"
      ]
    },
    {
      "cell_type": "markdown",
      "source": [
        "# The Dot Product"
      ],
      "metadata": {
        "id": "IbRQht0gFf9U"
      }
    },
    {
      "cell_type": "markdown",
      "source": [
        "## Imports"
      ],
      "metadata": {
        "id": "zh82Gd7xFi-o"
      }
    },
    {
      "cell_type": "code",
      "execution_count": null,
      "metadata": {
        "id": "Ai4cNTsSFdoM"
      },
      "outputs": [],
      "source": []
    },
    {
      "cell_type": "markdown",
      "source": [
        "## Defintion: Dot Product\n",
        "\n",
        "If $\\mathbf{a}$ and $\\mathbf{b}$ are two vectors taken with a comon initial point, then\n",
        "\n",
        "$$\n",
        "\\mathbf{a} \\cdot \\mathbf{b} = \\left|\\mathbf{a}\\right|\\left|\\mathbf{b}\\right|\\cos{\\theta}\n",
        "$$\n",
        "\n",
        "where $\\theta$ is the angle between $\\mathbf{a}$ and $\\mathbf{b}$ and $0 \\le \\theta \\le \\pi$."
      ],
      "metadata": {
        "id": "X0i6oczZF12R"
      }
    },
    {
      "cell_type": "markdown",
      "source": [
        "## Properties of the Dot Product"
      ],
      "metadata": {
        "id": "Wz56fYITGsZv"
      }
    }
  ]
}