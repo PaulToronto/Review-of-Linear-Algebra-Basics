{
  "nbformat": 4,
  "nbformat_minor": 0,
  "metadata": {
    "colab": {
      "provenance": [],
      "toc_visible": true,
      "authorship_tag": "ABX9TyOCvibWpcG9OX0fyiVY7pDC",
      "include_colab_link": true
    },
    "kernelspec": {
      "name": "python3",
      "display_name": "Python 3"
    },
    "language_info": {
      "name": "python"
    }
  },
  "cells": [
    {
      "cell_type": "markdown",
      "metadata": {
        "id": "view-in-github",
        "colab_type": "text"
      },
      "source": [
        "<a href=\"https://colab.research.google.com/github/PaulToronto/Review-of-Linear-Algebra-Basics/blob/main/2_Projections_and_Components_of_Vectors.ipynb\" target=\"_parent\"><img src=\"https://colab.research.google.com/assets/colab-badge.svg\" alt=\"Open In Colab\"/></a>"
      ]
    },
    {
      "cell_type": "markdown",
      "source": [
        "# Projections and Components of Vectors"
      ],
      "metadata": {
        "id": "TO__abPwUa1V"
      }
    },
    {
      "cell_type": "markdown",
      "source": [
        "## Imports"
      ],
      "metadata": {
        "id": "nzUVFgfDUeOL"
      }
    },
    {
      "cell_type": "code",
      "execution_count": 1,
      "metadata": {
        "id": "h5qlKFqGUVaE"
      },
      "outputs": [],
      "source": [
        "import matplotlib.pyplot as plt\n",
        "import numpy as np\n",
        "import sympy as sym"
      ]
    },
    {
      "cell_type": "markdown",
      "source": [
        "## Functions"
      ],
      "metadata": {
        "id": "TCeCYVnUpb91"
      }
    },
    {
      "cell_type": "code",
      "source": [
        "v_length = lambda x: np.sqrt(x[0]**2 + x[1]**2)\n",
        "\n",
        "# this is cheating a bit, determining the angle\n",
        "#  is covered in the notebook on The Dot Product\n",
        "v_angle = lambda a, b: np.arccos(a.dot(b) / (v_length(a) * v_length(b)))"
      ],
      "metadata": {
        "id": "_OsoMz1PpdWs"
      },
      "execution_count": 2,
      "outputs": []
    },
    {
      "cell_type": "markdown",
      "source": [
        "<img src='https://drive.google.com/uc?export=view&id=1dGmZH787RuLlSFWCl8v1Ytb3MB86y0DK'>\n",
        "\n",
        "$\\theta$ is the angle between $\\mathbf{a}$ and $\\mathbf{b}$, $0 \\le \\mathbf{a} \\le \\pi$\n",
        "\n",
        "$$\n",
        "\\begin{align}\n",
        "\\cos{\\theta} &= \\frac{x}{\\left|\\mathbf{a}\\right|} \\\\\n",
        "\\implies x &= \\left|\\mathbf{a}\\right|\\cos{\\theta}\n",
        "\\end{align}\n",
        "$$\n",
        "\n",
        "The **component** or **scalar projection** of $\\mathbf{a}$ on $\\mathbf{b}$:\n",
        "\n",
        "$$\n",
        "\\text{comp}_{\\mathbf{b}}{\\mathbf{a}} = \\left|\\mathbf{a}\\right|\\cos{\\theta}\n",
        "$$\n",
        "\n",
        "The **projection** or **vector projection** of $\\mathbf{a}$ on $\\mathbf{b}$, denoted $\\text{proj}_{\\mathbf{b}}\\mathbf{a}$:\n",
        "\n",
        "$$\n",
        "\\text{proj}_{\\mathbf{b}}{\\mathbf{a}} =  \\left|\\mathbf{a}\\right|\\cos{\\theta}\\frac{\\mathbf{b}}{\\left|\\mathbf{b}\\right|}\n",
        "$$\n",
        "\n",
        "But using the dot product\n",
        "\n",
        "$$\n",
        "\\begin{align}\n",
        "\\mathbf{a} \\cdot \\mathbf{b} &= \\left|\\mathbf{a}\\right|\\left|\\mathbf{b}\\right| \\cos{\\theta} \\\\\n",
        "\\implies \\left|\\mathbf{a}\\right| \\cos{\\theta}  &= \\frac{\\mathbf{a} \\cdot \\mathbf{b}}{\\left|\\mathbf{b}\\right|}\n",
        "\\end{align}\n",
        "$$\n",
        "\n",
        "We now have two formulas each for the scalar projection and the vector projections.\n",
        "\n",
        "### Scalar projection aka component of a on b\n",
        "\n",
        "$$\n",
        "\\begin{align}\n",
        "\\text{comp}_{\\mathbf{b}}{\\mathbf{a}} &= \\left|\\mathbf{a}\\right|\\cos{\\theta}\\\\\n",
        "&= \\frac{\\mathbf{a} \\cdot \\mathbf{b}}{\\left|\\mathbf{b}\\right|}\n",
        "\\end{align}\n",
        "$$\n",
        "\n",
        "### Vector projection aks projection of a on b\n",
        "\n",
        "$$\n",
        "\\begin{align}\n",
        "\\text{proj}_{\\mathbf{b}}{\\mathbf{a}} &=  \\left|\\mathbf{a}\\right|\\cos{\\theta}\\frac{\\mathbf{b}}{\\left|\\mathbf{b}\\right|} \\\\\n",
        "&= \\frac{\\mathbf{a} \\cdot \\mathbf{b}}{\\left|\\mathbf{b}\\right|} \\frac{\\mathbf{b}}{\\left|\\mathbf{b}\\right|} \\\\\n",
        "&= \\frac{\\mathbf{a}\\cdot\\mathbf{b}}{\\left|\\mathbf{b}\\right|^{2}}\\mathbf{b} \\\\\n",
        "&= \\frac{\\mathbf{a}\\cdot\\mathbf{b}}{\\mathbf{b}\\cdot\\mathbf{b}}\\mathbf{b}\n",
        "\\end{align}\n",
        "$$"
      ],
      "metadata": {
        "id": "LXFM130Jp7Pu"
      }
    },
    {
      "cell_type": "markdown",
      "source": [
        "## Example 1"
      ],
      "metadata": {
        "id": "-Qigz7hCphNj"
      }
    },
    {
      "cell_type": "code",
      "source": [
        "a = np.array([5, 6])\n",
        "b = np.array([9, 0])\n",
        "\n",
        "a_length = v_length(a)\n",
        "b_length = v_length(b)\n",
        "theta = v_angle(a, b)\n",
        "\n",
        "comp_a_on_b1 = a_length * np.cos(theta)\n",
        "comp_a_on_b2 = a.dot(b) / b_length\n",
        "\n",
        "proj_a_on_b1 = a_length * np.cos(theta) * (b / b_length)\n",
        "proj_a_on_b2 = (a.dot(b) / b.dot(b)) * b\n",
        "\n",
        "comp_a_on_b1, comp_a_on_b2, proj_a_on_b1, proj_a_on_b2"
      ],
      "metadata": {
        "id": "xps42TivrwiM",
        "colab": {
          "base_uri": "https://localhost:8080/"
        },
        "outputId": "87919cda-dfb5-4cdc-bad9-cc9ef50fd009"
      },
      "execution_count": 3,
      "outputs": [
        {
          "output_type": "execute_result",
          "data": {
            "text/plain": [
              "(5.0, 5.0, array([5., 0.]), array([5., 0.]))"
            ]
          },
          "metadata": {},
          "execution_count": 3
        }
      ]
    },
    {
      "cell_type": "code",
      "source": [
        "fig, ax = plt.subplots(1, 1, figsize=(5, 5))\n",
        "\n",
        "# vector a\n",
        "plt.quiver(0, 0, *a, scale=1, units='xy',\n",
        "           color='red', width=0.17)\n",
        "plt.annotate('$\\mathbf{a}$', xy=(2, 3.2),\n",
        "             size=15, color='red')\n",
        "# vector b\n",
        "plt.quiver(0, 0, *b, scale=1, units='xy',\n",
        "           color='dodgerblue', width=0.17)\n",
        "plt.annotate('$\\mathbf{b}$', xy=(4.5, -0.7),\n",
        "             size=15, color='dodgerblue')\n",
        "\n",
        "# line L\n",
        "x_l = np.linspace(-1, 10, 100)\n",
        "y_l = np.zeros_like(x_l)\n",
        "plt.plot(x_l, y_l, color='green',\n",
        "         linewidth=4, label='$L = \\{k\\mathbf{b}:k \\in \\mathbb{R}\\}$', zorder=-1)\n",
        "\n",
        "# adjacent side\n",
        "ax.add_line(plt.Line2D(xdata=(0, 5), ydata=(0, 0), color='black', linewidth=2))\n",
        "plt.annotate('x', xy=(2.5, 0.2),\n",
        "             size=14, color='black')\n",
        "# opposite side\n",
        "ax.add_line(plt.Line2D(xdata=(5, 5), ydata=(0, 6), color='black', linewidth=2))\n",
        "plt.annotate('y', xy=(4.6, 3),\n",
        "             size=14, color='black')\n",
        "\n",
        "# right-angle\n",
        "ax.add_line(plt.Line2D(xdata=(4.7, 4.7), ydata=(0, 0.3), color='black', linewidth=1))\n",
        "ax.add_line(plt.Line2D(xdata=(4.7, 5), ydata=(0.3, 0.3), color='black', linewidth=1))\n",
        "\n",
        "# theta\n",
        "plt.annotate(r'$\\theta$', xy=(0.8, 0.3), size=14)\n",
        "\n",
        "plt.title('$proj_{b}a$')\n",
        "plt.xlim(-1, 10)\n",
        "plt.ylim(-1, 10)\n",
        "plt.xticks(np.linspace(-1, 10, 12))\n",
        "plt.yticks(np.linspace(-1, 10, 12))\n",
        "plt.grid()\n",
        "plt.legend(loc='upper left')\n",
        "plt.show()"
      ],
      "metadata": {
        "colab": {
          "base_uri": "https://localhost:8080/",
          "height": 470
        },
        "id": "kAFBPr48ORAw",
        "outputId": "d422267d-1652-4d20-eea7-0d35bf74eebd"
      },
      "execution_count": 4,
      "outputs": [
        {
          "output_type": "display_data",
          "data": {
            "text/plain": [
              "<Figure size 500x500 with 1 Axes>"
            ],
            "image/png": "[encoded data removed]"
          },
          "metadata": {}
        }
      ]
    },
    {
      "cell_type": "markdown",
      "source": [
        "## Example 2"
      ],
      "metadata": {
        "id": "UjgCYk60pzuL"
      }
    },
    {
      "cell_type": "code",
      "source": [
        "a = np.array([-5, 6])\n",
        "b = np.array([9, 0])\n",
        "\n",
        "a_length = v_length(a)\n",
        "b_length = v_length(b)\n",
        "theta = v_angle(a, b)\n",
        "\n",
        "comp_a_on_b1 = a_length * np.cos(theta)\n",
        "comp_a_on_b2 = a.dot(b) / b_length\n",
        "\n",
        "proj_a_on_b1 = a_length * np.cos(theta) * (b / b_length)\n",
        "proj_a_on_b2 = (a.dot(b) / b.dot(b)) * b\n",
        "\n",
        "comp_a_on_b1, comp_a_on_b2, proj_a_on_b1, proj_a_on_b2"
      ],
      "metadata": {
        "id": "0uasZdcJsX2g",
        "colab": {
          "base_uri": "https://localhost:8080/"
        },
        "outputId": "71974100-4294-4d30-babd-a2612b3ea822"
      },
      "execution_count": 5,
      "outputs": [
        {
          "output_type": "execute_result",
          "data": {
            "text/plain": [
              "(-5.0, -5.0, array([-5., -0.]), array([-5., -0.]))"
            ]
          },
          "metadata": {},
          "execution_count": 5
        }
      ]
    },
    {
      "cell_type": "code",
      "source": [
        "fig, ax = plt.subplots(1, 1, figsize=(5, 5))\n",
        "\n",
        "# vector a\n",
        "plt.quiver(0, 0, *a, scale=1, units='xy',\n",
        "           color='red', width=0.17)\n",
        "plt.annotate('$\\mathbf{a}$', xy=(-2, 3.2),\n",
        "             size=15, color='red')\n",
        "# vector b\n",
        "plt.quiver(0, 0, *b, scale=1, units='xy',\n",
        "           color='dodgerblue', width=0.17)\n",
        "plt.annotate('$\\mathbf{b}$', xy=(4.5, -1),\n",
        "             size=15, color='dodgerblue')\n",
        "\n",
        "# line L\n",
        "x_l = np.linspace(-6, 11, 100)\n",
        "y_l = np.zeros_like(x_l)\n",
        "plt.plot(x_l, y_l, color='green',\n",
        "         linewidth=4, label='$L = \\{k\\mathbf{b}:k \\in \\mathbb{R}\\}$', zorder=-1)\n",
        "\n",
        "# adjacent side\n",
        "ax.add_line(plt.Line2D(xdata=(0, -5), ydata=(0, 0), color='black', linewidth=2))\n",
        "plt.annotate('x', xy=(-2.9, 0.3),\n",
        "             size=14, color='black')\n",
        "# opposite side\n",
        "ax.add_line(plt.Line2D(xdata=(-5, -5), ydata=(0, 6), color='black', linewidth=2))\n",
        "plt.annotate('y', xy=(-4.6, 2.5),\n",
        "             size=14, color='black')\n",
        "\n",
        "# right-angle\n",
        "ax.add_line(plt.Line2D(xdata=(-4.7, -4.7), ydata=(0, 0.3), color='black', linewidth=1))\n",
        "ax.add_line(plt.Line2D(xdata=(-4.7, -5), ydata=(0.3, 0.3), color='black', linewidth=1))\n",
        "\n",
        "# theta\n",
        "plt.annotate(r'$\\theta$', xy=(0.2, 0.4), size=14)\n",
        "\n",
        "plt.title('$proj_{b}a$')\n",
        "plt.xlim(-6, 11)\n",
        "plt.ylim(-6, 11)\n",
        "plt.xticks(np.linspace(-6, 11, 18))\n",
        "plt.yticks(np.linspace(-6, 11, 18))\n",
        "plt.grid()\n",
        "plt.legend(loc='upper left')\n",
        "plt.show()"
      ],
      "metadata": {
        "colab": {
          "base_uri": "https://localhost:8080/",
          "height": 470
        },
        "id": "NYs9_3affaM1",
        "outputId": "4f9b361c-393a-47c5-b69c-e859b126a451"
      },
      "execution_count": 6,
      "outputs": [
        {
          "output_type": "display_data",
          "data": {
            "text/plain": [
              "<Figure size 500x500 with 1 Axes>"
            ],
            "image/png": "[encoded data removed]"
          },
          "metadata": {}
        }
      ]
    },
    {
      "cell_type": "markdown",
      "source": [
        "## Example 3"
      ],
      "metadata": {
        "id": "mm0f5yXmriP6"
      }
    },
    {
      "cell_type": "code",
      "source": [
        "a = np.array([1, 8])\n",
        "b = np.array([3, 4])\n",
        "\n",
        "a_length = v_length(a)\n",
        "b_length = v_length(b)\n",
        "theta = v_angle(a, b)\n",
        "\n",
        "comp_a_on_b1 = a_length * np.cos(theta)\n",
        "comp_a_on_b2 = a.dot(b) / b_length\n",
        "\n",
        "proj_a_on_b1 = a_length * np.cos(theta) * (b / b_length)\n",
        "proj_a_on_b2 = (a.dot(b) / b.dot(b)) * b\n",
        "\n",
        "comp_a_on_b1, comp_a_on_b2, proj_a_on_b1, proj_a_on_b2, v_length(proj_a_on_b2)"
      ],
      "metadata": {
        "id": "frSb-4Th0Kfj",
        "colab": {
          "base_uri": "https://localhost:8080/"
        },
        "outputId": "af9df90b-f24b-4fc8-b840-c5efdf598322"
      },
      "execution_count": 7,
      "outputs": [
        {
          "output_type": "execute_result",
          "data": {
            "text/plain": [
              "(7.0, 7.0, array([4.2, 5.6]), array([4.2, 5.6]), 6.999999999999999)"
            ]
          },
          "metadata": {},
          "execution_count": 7
        }
      ]
    },
    {
      "cell_type": "code",
      "source": [
        "fig, ax = plt.subplots(1, 1, figsize=(5, 5))\n",
        "\n",
        "# vector a\n",
        "plt.quiver(0, 0, *a, scale=1, units='xy',\n",
        "           color='red', width=0.17)\n",
        "plt.annotate('$\\mathbf{a}$', xy=(-0.1, 4),\n",
        "             size=15, color='red')\n",
        "# vector b\n",
        "plt.quiver(0, 0, *b, scale=1, units='xy',\n",
        "           color='dodgerblue', width=0.17)\n",
        "plt.annotate('$\\mathbf{b}$', xy=(1.7, 1.7),\n",
        "             size=15, color='dodgerblue')\n",
        "\n",
        "# line L\n",
        "x_l = np.linspace(-1, 10, 100)\n",
        "y_l = (4/3) * x_l\n",
        "plt.plot(x_l, y_l, color='lime',\n",
        "         linewidth=4, label='$L = \\{k\\mathbf{b}:k \\in \\mathbb{R}\\}$', zorder=-1)\n",
        "\n",
        "# adjacent side\n",
        "ax.add_line(plt.Line2D(xdata=(21/5, 0), ydata=(28/5, 0), color='black', linewidth=2))\n",
        "plt.annotate('x', xy=(3, 3),\n",
        "             size=14, color='black')\n",
        "# opposite side\n",
        "ax.add_line(plt.Line2D(xdata=(21/5, 1), ydata=(28/5, 8), color='black', linewidth=2))\n",
        "plt.annotate('y', xy=(2.7, 7),\n",
        "             size=14, color='black')\n",
        "\n",
        "# right-angle\n",
        "ax.add_line(plt.Line2D(xdata=(99/25, 189/50), ydata=(289/50, 277/50), color='black', linewidth=1))\n",
        "ax.add_line(plt.Line2D(xdata=(201/50, 189/50), ydata=(134/25, 277/50), color='black', linewidth=1))\n",
        "\n",
        "# theta\n",
        "plt.annotate(r'$\\theta$', xy=(0.4, 1.3), size=14)\n",
        "\n",
        "plt.title('$proj_{b}a$')\n",
        "plt.xlim(-1, 10)\n",
        "plt.ylim(-1, 10)\n",
        "plt.xticks(np.linspace(-1, 10, 12))\n",
        "plt.yticks(np.linspace(-1, 10, 12))\n",
        "plt.grid()\n",
        "plt.legend(loc='upper left')\n",
        "plt.show()"
      ],
      "metadata": {
        "colab": {
          "base_uri": "https://localhost:8080/",
          "height": 470
        },
        "id": "gWjMtJ0IpUur",
        "outputId": "5085701a-238c-4403-f632-8241acd736cc"
      },
      "execution_count": 8,
      "outputs": [
        {
          "output_type": "display_data",
          "data": {
            "text/plain": [
              "<Figure size 500x500 with 1 Axes>"
            ],
            "image/png": "[encoded data removed]"
          },
          "metadata": {}
        }
      ]
    },
    {
      "cell_type": "markdown",
      "source": [
        "## Components of a vector, $\\mathbf{x}$, on unit basis vectors $\\mathbf{i}$, $\\mathbf{j}$ and $\\mathbf{k}$"
      ],
      "metadata": {
        "id": "73CjMbgWWUMH"
      }
    },
    {
      "cell_type": "markdown",
      "source": [
        "### The components of $\\mathbf{x} = (x_1, x_2)$ on $\\mathbf{i}$ and $\\mathbf{j}$"
      ],
      "metadata": {
        "id": "H2ynFv2hRZhV"
      }
    },
    {
      "cell_type": "code",
      "source": [
        "x1, x2, x3 = sym.symbols('x_1 x_2 x_3')"
      ],
      "metadata": {
        "id": "Fnq3Y7A3RmXF"
      },
      "execution_count": 9,
      "outputs": []
    },
    {
      "cell_type": "code",
      "source": [
        "x = sym.Matrix([x1, x2])\n",
        "i = sym.Matrix([1, 0])\n",
        "j = sym.Matrix([0, 1])"
      ],
      "metadata": {
        "id": "lG0rKVbbRv6l"
      },
      "execution_count": 10,
      "outputs": []
    },
    {
      "cell_type": "code",
      "source": [
        "x"
      ],
      "metadata": {
        "colab": {
          "base_uri": "https://localhost:8080/",
          "height": 58
        },
        "id": "G4uZK7WP4zsQ",
        "outputId": "586e2259-7f16-4626-a3ec-a61a73c20af4"
      },
      "execution_count": 11,
      "outputs": [
        {
          "output_type": "execute_result",
          "data": {
            "text/plain": [
              "Matrix([\n",
              "[x_1],\n",
              "[x_2]])"
            ],
            "text/latex": "$\\displaystyle \\left[\\begin{matrix}x_{1}\\\\x_{2}\\end{matrix}\\right]$"
          },
          "metadata": {},
          "execution_count": 11
        }
      ]
    },
    {
      "cell_type": "code",
      "source": [
        "i"
      ],
      "metadata": {
        "colab": {
          "base_uri": "https://localhost:8080/",
          "height": 58
        },
        "id": "vvyQbClI41-p",
        "outputId": "607145e7-5e31-4237-a51d-6154af54a3ee"
      },
      "execution_count": 12,
      "outputs": [
        {
          "output_type": "execute_result",
          "data": {
            "text/plain": [
              "Matrix([\n",
              "[1],\n",
              "[0]])"
            ],
            "text/latex": "$\\displaystyle \\left[\\begin{matrix}1\\\\0\\end{matrix}\\right]$"
          },
          "metadata": {},
          "execution_count": 12
        }
      ]
    },
    {
      "cell_type": "code",
      "source": [
        "j"
      ],
      "metadata": {
        "colab": {
          "base_uri": "https://localhost:8080/",
          "height": 58
        },
        "id": "63-o7Uhi456g",
        "outputId": "cb459b7f-25e2-4a3c-b6b0-f6dc97901852"
      },
      "execution_count": 13,
      "outputs": [
        {
          "output_type": "execute_result",
          "data": {
            "text/plain": [
              "Matrix([\n",
              "[0],\n",
              "[1]])"
            ],
            "text/latex": "$\\displaystyle \\left[\\begin{matrix}0\\\\1\\end{matrix}\\right]$"
          },
          "metadata": {},
          "execution_count": 13
        }
      ]
    },
    {
      "cell_type": "code",
      "source": [
        "v_length_sym = lambda a: sym.sqrt(a.dot(a))\n",
        "v_angle_sym = lambda a, b: sym.acos(a.dot(b) / (v_length_sym(a) * v_length_sym(b)))"
      ],
      "metadata": {
        "id": "BXZdo--FRz3m"
      },
      "execution_count": 14,
      "outputs": []
    },
    {
      "cell_type": "code",
      "source": [
        "v_length_sym(x)"
      ],
      "metadata": {
        "colab": {
          "base_uri": "https://localhost:8080/",
          "height": 48
        },
        "id": "VyCjBu4KZ59z",
        "outputId": "45ef2f06-9feb-451d-ceec-404ca8ec6e9f"
      },
      "execution_count": 15,
      "outputs": [
        {
          "output_type": "execute_result",
          "data": {
            "text/plain": [
              "sqrt(x_1**2 + x_2**2)"
            ],
            "text/latex": "$\\displaystyle \\sqrt{x_{1}^{2} + x_{2}^{2}}$"
          },
          "metadata": {},
          "execution_count": 15
        }
      ]
    },
    {
      "cell_type": "code",
      "source": [
        "v_angle_sym(x, i)"
      ],
      "metadata": {
        "colab": {
          "base_uri": "https://localhost:8080/",
          "height": 68
        },
        "id": "GjUu4gh0aAdR",
        "outputId": "49895af3-a7db-4e73-c346-c06893397d42"
      },
      "execution_count": 16,
      "outputs": [
        {
          "output_type": "execute_result",
          "data": {
            "text/plain": [
              "acos(x_1/sqrt(x_1**2 + x_2**2))"
            ],
            "text/latex": "$\\displaystyle \\operatorname{acos}{\\left(\\frac{x_{1}}{\\sqrt{x_{1}^{2} + x_{2}^{2}}} \\right)}$"
          },
          "metadata": {},
          "execution_count": 16
        }
      ]
    },
    {
      "cell_type": "code",
      "source": [
        "v_length_sym(x) * sym.cos(v_angle_sym(x, i))"
      ],
      "metadata": {
        "colab": {
          "base_uri": "https://localhost:8080/",
          "height": 39
        },
        "id": "32S5lyxbaTl8",
        "outputId": "9788020e-56dd-42bc-d684-e9b60a5ae4ed"
      },
      "execution_count": 17,
      "outputs": [
        {
          "output_type": "execute_result",
          "data": {
            "text/plain": [
              "x_1"
            ],
            "text/latex": "$\\displaystyle x_{1}$"
          },
          "metadata": {},
          "execution_count": 17
        }
      ]
    },
    {
      "cell_type": "code",
      "source": [
        "# alternately\n",
        "x.dot(i) / v_length_sym(i)"
      ],
      "metadata": {
        "colab": {
          "base_uri": "https://localhost:8080/",
          "height": 39
        },
        "id": "lbt3pK-4Sk-z",
        "outputId": "fe1408b5-3d93-401e-a1a6-fed133fd5c42"
      },
      "execution_count": 18,
      "outputs": [
        {
          "output_type": "execute_result",
          "data": {
            "text/plain": [
              "x_1"
            ],
            "text/latex": "$\\displaystyle x_{1}$"
          },
          "metadata": {},
          "execution_count": 18
        }
      ]
    },
    {
      "cell_type": "code",
      "source": [
        "v_length_sym(x) * sym.cos(v_angle_sym(x, j))"
      ],
      "metadata": {
        "colab": {
          "base_uri": "https://localhost:8080/",
          "height": 39
        },
        "id": "MChyaGiFUPJq",
        "outputId": "6d7b252a-7ed8-4c72-b02f-3de91693684b"
      },
      "execution_count": 19,
      "outputs": [
        {
          "output_type": "execute_result",
          "data": {
            "text/plain": [
              "x_2"
            ],
            "text/latex": "$\\displaystyle x_{2}$"
          },
          "metadata": {},
          "execution_count": 19
        }
      ]
    },
    {
      "cell_type": "code",
      "source": [
        "# altnernately\n",
        "x.dot(j) / v_length_sym(j)"
      ],
      "metadata": {
        "colab": {
          "base_uri": "https://localhost:8080/",
          "height": 39
        },
        "id": "BjzSTsCF9DG9",
        "outputId": "f3c5de76-669a-4910-88bd-1356f827ab57"
      },
      "execution_count": 20,
      "outputs": [
        {
          "output_type": "execute_result",
          "data": {
            "text/plain": [
              "x_2"
            ],
            "text/latex": "$\\displaystyle x_{2}$"
          },
          "metadata": {},
          "execution_count": 20
        }
      ]
    },
    {
      "cell_type": "markdown",
      "source": [
        "### The components of $\\mathbf{x} = (x_1, x_2, x_3)$ on $\\mathbf{i}$, $\\mathbf{j}$ and $\\mathbf{k}$"
      ],
      "metadata": {
        "id": "TlxDX4L6U6b7"
      }
    },
    {
      "cell_type": "code",
      "source": [
        "x = sym.Matrix([x1, x2, x3])\n",
        "i = sym.Matrix([1, 0, 0])\n",
        "j = sym.Matrix([0, 1, 0])\n",
        "k = sym.Matrix([0, 0, 1])"
      ],
      "metadata": {
        "id": "ylNGFoHuU5Be"
      },
      "execution_count": 21,
      "outputs": []
    },
    {
      "cell_type": "code",
      "source": [
        "x"
      ],
      "metadata": {
        "colab": {
          "base_uri": "https://localhost:8080/",
          "height": 78
        },
        "id": "VlYYeqMR9Vyx",
        "outputId": "499e889e-fc89-4dc9-e581-ec5cf7d60c3c"
      },
      "execution_count": 22,
      "outputs": [
        {
          "output_type": "execute_result",
          "data": {
            "text/plain": [
              "Matrix([\n",
              "[x_1],\n",
              "[x_2],\n",
              "[x_3]])"
            ],
            "text/latex": "$\\displaystyle \\left[\\begin{matrix}x_{1}\\\\x_{2}\\\\x_{3}\\end{matrix}\\right]$"
          },
          "metadata": {},
          "execution_count": 22
        }
      ]
    },
    {
      "cell_type": "code",
      "source": [
        "i"
      ],
      "metadata": {
        "colab": {
          "base_uri": "https://localhost:8080/",
          "height": 78
        },
        "id": "dId_OJkk9V2w",
        "outputId": "97d20d92-4a33-456f-f2c4-4cef73b20193"
      },
      "execution_count": 23,
      "outputs": [
        {
          "output_type": "execute_result",
          "data": {
            "text/plain": [
              "Matrix([\n",
              "[1],\n",
              "[0],\n",
              "[0]])"
            ],
            "text/latex": "$\\displaystyle \\left[\\begin{matrix}1\\\\0\\\\0\\end{matrix}\\right]$"
          },
          "metadata": {},
          "execution_count": 23
        }
      ]
    },
    {
      "cell_type": "code",
      "source": [
        "j"
      ],
      "metadata": {
        "colab": {
          "base_uri": "https://localhost:8080/",
          "height": 78
        },
        "id": "z8pguar39V5_",
        "outputId": "bfbff161-b76a-4dc7-a77b-f7454f5dfa03"
      },
      "execution_count": 24,
      "outputs": [
        {
          "output_type": "execute_result",
          "data": {
            "text/plain": [
              "Matrix([\n",
              "[0],\n",
              "[1],\n",
              "[0]])"
            ],
            "text/latex": "$\\displaystyle \\left[\\begin{matrix}0\\\\1\\\\0\\end{matrix}\\right]$"
          },
          "metadata": {},
          "execution_count": 24
        }
      ]
    },
    {
      "cell_type": "code",
      "source": [
        "k"
      ],
      "metadata": {
        "colab": {
          "base_uri": "https://localhost:8080/",
          "height": 78
        },
        "id": "378c_XwH9WnR",
        "outputId": "50006fb4-e7b1-492b-e0c7-2f6e0f3c67eb"
      },
      "execution_count": 25,
      "outputs": [
        {
          "output_type": "execute_result",
          "data": {
            "text/plain": [
              "Matrix([\n",
              "[0],\n",
              "[0],\n",
              "[1]])"
            ],
            "text/latex": "$\\displaystyle \\left[\\begin{matrix}0\\\\0\\\\1\\end{matrix}\\right]$"
          },
          "metadata": {},
          "execution_count": 25
        }
      ]
    },
    {
      "cell_type": "code",
      "source": [
        "for unit_basis in (i, j, k):\n",
        "    display(v_length_sym(x) * sym.cos(v_angle_sym(x, unit_basis)))"
      ],
      "metadata": {
        "colab": {
          "base_uri": "https://localhost:8080/",
          "height": 82
        },
        "id": "pwqFMaYPXKg5",
        "outputId": "2f851b1c-5ac1-4afb-ed66-e7650592026b"
      },
      "execution_count": 26,
      "outputs": [
        {
          "output_type": "display_data",
          "data": {
            "text/plain": [
              "x_1"
            ],
            "text/latex": "$\\displaystyle x_{1}$"
          },
          "metadata": {}
        },
        {
          "output_type": "display_data",
          "data": {
            "text/plain": [
              "x_2"
            ],
            "text/latex": "$\\displaystyle x_{2}$"
          },
          "metadata": {}
        },
        {
          "output_type": "display_data",
          "data": {
            "text/plain": [
              "x_3"
            ],
            "text/latex": "$\\displaystyle x_{3}$"
          },
          "metadata": {}
        }
      ]
    },
    {
      "cell_type": "code",
      "source": [
        "my_vector_sum = sym.Matrix([0, 0, 0])\n",
        "for unit_basis in (i, j, k):\n",
        "    my_vector_sum += (v_length_sym(x) * sym.cos(v_angle_sym(x, unit_basis))) * unit_basis\n",
        "\n",
        "my_vector_sum"
      ],
      "metadata": {
        "colab": {
          "base_uri": "https://localhost:8080/",
          "height": 78
        },
        "id": "In1bWVh6Xrbq",
        "outputId": "b1b14fb4-8c50-479e-c1bc-d698c0902eae"
      },
      "execution_count": 27,
      "outputs": [
        {
          "output_type": "execute_result",
          "data": {
            "text/plain": [
              "Matrix([\n",
              "[x_1],\n",
              "[x_2],\n",
              "[x_3]])"
            ],
            "text/latex": "$\\displaystyle \\left[\\begin{matrix}x_{1}\\\\x_{2}\\\\x_{3}\\end{matrix}\\right]$"
          },
          "metadata": {},
          "execution_count": 27
        }
      ]
    },
    {
      "cell_type": "markdown",
      "source": [
        "## Theorem\n",
        "\n",
        "The sum of the components of $\\mathbf{a}$ and $\\mathbf{c}$ on $\\mathbf{b}$ equals the component of the sum $\\mathbf{a} + \\mathbf{c}$ on $\\mathbf{b}$"
      ],
      "metadata": {
        "id": "5BE57JUBYZX5"
      }
    },
    {
      "cell_type": "code",
      "source": [
        "a1, a2, a3 = sym.symbols('a_1 a_2 a_3')\n",
        "b1, b2, b3 = sym.symbols('b_1 b_2 b_3')\n",
        "c1, c2, c3 = sym.symbols('c_1 c_2 c_3')\n",
        "\n",
        "a = sym.Matrix([a1, a2, a3])\n",
        "b = sym.Matrix([b1, b2, b3])\n",
        "c = sym.Matrix([c1, c2, c3])"
      ],
      "metadata": {
        "id": "A-YJTdM4-Awh"
      },
      "execution_count": 28,
      "outputs": []
    },
    {
      "cell_type": "code",
      "source": [
        "display(a); print('\\n'); display(b); print('\\n'); display(c)"
      ],
      "metadata": {
        "colab": {
          "base_uri": "https://localhost:8080/",
          "height": 271
        },
        "id": "c1IQRcLM-bhg",
        "outputId": "79ac5b19-1eda-4172-9d5d-e5a788204d5d"
      },
      "execution_count": 29,
      "outputs": [
        {
          "output_type": "display_data",
          "data": {
            "text/plain": [
              "Matrix([\n",
              "[a_1],\n",
              "[a_2],\n",
              "[a_3]])"
            ],
            "text/latex": "$\\displaystyle \\left[\\begin{matrix}a_{1}\\\\a_{2}\\\\a_{3}\\end{matrix}\\right]$"
          },
          "metadata": {}
        },
        {
          "output_type": "stream",
          "name": "stdout",
          "text": [
            "\n",
            "\n"
          ]
        },
        {
          "output_type": "display_data",
          "data": {
            "text/plain": [
              "Matrix([\n",
              "[b_1],\n",
              "[b_2],\n",
              "[b_3]])"
            ],
            "text/latex": "$\\displaystyle \\left[\\begin{matrix}b_{1}\\\\b_{2}\\\\b_{3}\\end{matrix}\\right]$"
          },
          "metadata": {}
        },
        {
          "output_type": "stream",
          "name": "stdout",
          "text": [
            "\n",
            "\n"
          ]
        },
        {
          "output_type": "display_data",
          "data": {
            "text/plain": [
              "Matrix([\n",
              "[c_1],\n",
              "[c_2],\n",
              "[c_3]])"
            ],
            "text/latex": "$\\displaystyle \\left[\\begin{matrix}c_{1}\\\\c_{2}\\\\c_{3}\\end{matrix}\\right]$"
          },
          "metadata": {}
        }
      ]
    },
    {
      "cell_type": "code",
      "source": [
        "proj_a_on_b = v_length_sym(a) * sym.cos(v_angle_sym(a, b))\n",
        "proj_c_on_b = v_length_sym(c) * sym.cos(v_angle_sym(c, b))\n",
        "(proj_a_on_b + proj_c_on_b).simplify()"
      ],
      "metadata": {
        "colab": {
          "base_uri": "https://localhost:8080/",
          "height": 59
        },
        "id": "UUDk7g-x-wm6",
        "outputId": "46cd7a16-74b7-46c1-f2c4-911a8c42a50c"
      },
      "execution_count": 30,
      "outputs": [
        {
          "output_type": "execute_result",
          "data": {
            "text/plain": [
              "(a_1*b_1 + a_2*b_2 + a_3*b_3 + b_1*c_1 + b_2*c_2 + b_3*c_3)/sqrt(b_1**2 + b_2**2 + b_3**2)"
            ],
            "text/latex": "$\\displaystyle \\frac{a_{1} b_{1} + a_{2} b_{2} + a_{3} b_{3} + b_{1} c_{1} + b_{2} c_{2} + b_{3} c_{3}}{\\sqrt{b_{1}^{2} + b_{2}^{2} + b_{3}^{2}}}$"
          },
          "metadata": {},
          "execution_count": 30
        }
      ]
    },
    {
      "cell_type": "code",
      "source": [
        "a_plus_c = a + c\n",
        "a_plus_c"
      ],
      "metadata": {
        "colab": {
          "base_uri": "https://localhost:8080/",
          "height": 78
        },
        "id": "ZMOeASYqDnJR",
        "outputId": "b9af1902-d3dd-4db6-9b9a-9f903ec9cd9c"
      },
      "execution_count": 31,
      "outputs": [
        {
          "output_type": "execute_result",
          "data": {
            "text/plain": [
              "Matrix([\n",
              "[a_1 + c_1],\n",
              "[a_2 + c_2],\n",
              "[a_3 + c_3]])"
            ],
            "text/latex": "$\\displaystyle \\left[\\begin{matrix}a_{1} + c_{1}\\\\a_{2} + c_{2}\\\\a_{3} + c_{3}\\end{matrix}\\right]$"
          },
          "metadata": {},
          "execution_count": 31
        }
      ]
    },
    {
      "cell_type": "code",
      "source": [
        "proj_a_plus_c_on_b = v_length_sym(a_plus_c) * sym.cos(v_angle_sym(a_plus_c, b))\n",
        "proj_a_plus_c_on_b.factor()"
      ],
      "metadata": {
        "colab": {
          "base_uri": "https://localhost:8080/",
          "height": 59
        },
        "id": "_RSLoMYvDuud",
        "outputId": "4b8817dc-b157-4c2d-852c-cc51461af196"
      },
      "execution_count": 32,
      "outputs": [
        {
          "output_type": "execute_result",
          "data": {
            "text/plain": [
              "(a_1*b_1 + a_2*b_2 + a_3*b_3 + b_1*c_1 + b_2*c_2 + b_3*c_3)/sqrt(b_1**2 + b_2**2 + b_3**2)"
            ],
            "text/latex": "$\\displaystyle \\frac{a_{1} b_{1} + a_{2} b_{2} + a_{3} b_{3} + b_{1} c_{1} + b_{2} c_{2} + b_{3} c_{3}}{\\sqrt{b_{1}^{2} + b_{2}^{2} + b_{3}^{2}}}$"
          },
          "metadata": {},
          "execution_count": 32
        }
      ]
    },
    {
      "cell_type": "code",
      "source": [
        "(proj_a_on_b + proj_c_on_b).equals(proj_a_plus_c_on_b)"
      ],
      "metadata": {
        "colab": {
          "base_uri": "https://localhost:8080/"
        },
        "id": "3ZK7UfmKEaIP",
        "outputId": "7f68382d-35ac-4670-ea63-d736bd8bf31d"
      },
      "execution_count": 33,
      "outputs": [
        {
          "output_type": "execute_result",
          "data": {
            "text/plain": [
              "True"
            ]
          },
          "metadata": {},
          "execution_count": 33
        }
      ]
    },
    {
      "cell_type": "markdown",
      "source": [
        "## Exercise\n",
        "\n"
      ],
      "metadata": {
        "id": "Jp8Pf90-E_pV"
      }
    }
  ]
}