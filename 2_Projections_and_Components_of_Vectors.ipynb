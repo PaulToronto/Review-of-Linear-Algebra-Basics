{
  "nbformat": 4,
  "nbformat_minor": 0,
  "metadata": {
    "colab": {
      "provenance": [],
      "toc_visible": true,
      "authorship_tag": "ABX9TyPafVsSWTh8bO8neK0LDzAq",
      "include_colab_link": true
    },
    "kernelspec": {
      "name": "python3",
      "display_name": "Python 3"
    },
    "language_info": {
      "name": "python"
    }
  },
  "cells": [
    {
      "cell_type": "markdown",
      "metadata": {
        "id": "view-in-github",
        "colab_type": "text"
      },
      "source": [
        "<a href=\"https://colab.research.google.com/github/PaulToronto/Review-of-Linear-Algebra-Basics/blob/main/2_Projections_and_Components_of_Vectors.ipynb\" target=\"_parent\"><img src=\"https://colab.research.google.com/assets/colab-badge.svg\" alt=\"Open In Colab\"/></a>"
      ]
    },
    {
      "cell_type": "markdown",
      "source": [
        "# Projections and Components of Vectors"
      ],
      "metadata": {
        "id": "TO__abPwUa1V"
      }
    },
    {
      "cell_type": "markdown",
      "source": [
        "## Imports"
      ],
      "metadata": {
        "id": "nzUVFgfDUeOL"
      }
    },
    {
      "cell_type": "code",
      "execution_count": 1,
      "metadata": {
        "id": "h5qlKFqGUVaE"
      },
      "outputs": [],
      "source": [
        "import matplotlib.pyplot as plt\n",
        "import numpy as np"
      ]
    },
    {
      "cell_type": "markdown",
      "source": [
        "## Functions"
      ],
      "metadata": {
        "id": "TCeCYVnUpb91"
      }
    },
    {
      "cell_type": "code",
      "source": [
        "vector_length = lambda x: np.sqrt(x[0]**2 + x[1]**2)\n",
        "angle_between_two_vectors = lambda a, b: np.arccos(a.dot(b) / (vector_length(a) * vector_length(b)))"
      ],
      "metadata": {
        "id": "_OsoMz1PpdWs"
      },
      "execution_count": 2,
      "outputs": []
    },
    {
      "cell_type": "markdown",
      "source": [
        "<img src='https://drive.google.com/uc?export=view&id=1dGmZH787RuLlSFWCl8v1Ytb3MB86y0DK'>\n",
        "\n",
        "$\\theta$ is the angle between $\\mathbf{a}$ and $\\mathbf{b}$, $0 \\le \\mathbf{a} \\le \\pi$\n",
        "\n",
        "$$\n",
        "\\begin{align}\n",
        "\\cos{\\theta} &= \\frac{x}{\\left|\\mathbf{a}\\right|} \\\\\n",
        "\\implies x &= \\left|\\mathbf{a}\\right|\\cos{\\theta}\n",
        "\\end{align}\n",
        "$$\n",
        "\n",
        "The **component** or **scalar projection** of $\\mathbf{a}$ on $\\mathbf{b}$:\n",
        "\n",
        "$$\n",
        "\\left|\\mathbf{a}\\right|\\cos{\\theta}\n",
        "$$\n",
        "\n",
        "The **projection** or **vector projection** of $\\mathbf{a}$ on $\\mathbf{b}$, denoted $\\text{proj}_{\\mathbf{b}}\\mathbf{a}$:\n",
        "\n",
        "$$\n",
        "\\text{proj}_{\\mathbf{b}}{\\mathbf{a}} =  \\left|\\mathbf{a}\\right|\\cos{\\theta}\\frac{\\mathbf{b}}{\\left|\\mathbf{b}\\right|}\n",
        "$$"
      ],
      "metadata": {
        "id": "LXFM130Jp7Pu"
      }
    },
    {
      "cell_type": "markdown",
      "source": [
        "## Example 1"
      ],
      "metadata": {
        "id": "-Qigz7hCphNj"
      }
    },
    {
      "cell_type": "code",
      "source": [
        "a = np.array([5, 6])\n",
        "b = np.array([9, 0])"
      ],
      "metadata": {
        "id": "xps42TivrwiM"
      },
      "execution_count": 3,
      "outputs": []
    },
    {
      "cell_type": "code",
      "source": [
        "fig, ax = plt.subplots(1, 1, figsize=(5, 5))\n",
        "\n",
        "# vector a\n",
        "plt.quiver(0, 0, *a, scale=1, units='xy',\n",
        "           color='red', width=0.17)\n",
        "plt.annotate('$\\mathbf{a}$', xy=(2, 3.2),\n",
        "             size=15, color='red')\n",
        "# vector b\n",
        "plt.quiver(0, 0, *b, scale=1, units='xy',\n",
        "           color='dodgerblue', width=0.17)\n",
        "plt.annotate('$\\mathbf{b}$', xy=(4.5, -0.7),\n",
        "             size=15, color='dodgerblue')\n",
        "\n",
        "# line L\n",
        "x_l = np.linspace(-1, 10, 100)\n",
        "y_l = np.zeros_like(x_l)\n",
        "plt.plot(x_l, y_l, color='green',\n",
        "         linewidth=4, label='$L = \\{k\\mathbf{b}:k \\in \\mathbb{R}\\}$', zorder=-1)\n",
        "\n",
        "# adjacent side\n",
        "ax.add_line(plt.Line2D(xdata=(0, 5), ydata=(0, 0), color='black', linewidth=2))\n",
        "plt.annotate('x', xy=(2.5, 0.2),\n",
        "             size=14, color='black')\n",
        "# opposite side\n",
        "ax.add_line(plt.Line2D(xdata=(5, 5), ydata=(0, 6), color='black', linewidth=2))\n",
        "plt.annotate('y', xy=(4.6, 3),\n",
        "             size=14, color='black')\n",
        "\n",
        "# right-angle\n",
        "ax.add_line(plt.Line2D(xdata=(4.7, 4.7), ydata=(0, 0.3), color='black', linewidth=1))\n",
        "ax.add_line(plt.Line2D(xdata=(4.7, 5), ydata=(0.3, 0.3), color='black', linewidth=1))\n",
        "\n",
        "# theta\n",
        "plt.annotate(r'$\\theta$', xy=(0.8, 0.3), size=14)\n",
        "\n",
        "plt.title('$proj_{b}a$')\n",
        "plt.xlim(-1, 10)\n",
        "plt.ylim(-1, 10)\n",
        "plt.xticks(np.linspace(-1, 10, 12))\n",
        "plt.yticks(np.linspace(-1, 10, 12))\n",
        "plt.grid()\n",
        "plt.legend(loc='upper left')\n",
        "plt.show()"
      ],
      "metadata": {
        "colab": {
          "base_uri": "https://localhost:8080/",
          "height": 470
        },
        "id": "kAFBPr48ORAw",
        "outputId": "532c25a8-3caf-46e8-cdc5-e6fe78132ce1"
      },
      "execution_count": 4,
      "outputs": [
        {
          "output_type": "display_data",
          "data": {
            "text/plain": [
              "<Figure size 500x500 with 1 Axes>"
            ],
            "image/png": "[encoded data removed]"
          },
          "metadata": {}
        }
      ]
    },
    {
      "cell_type": "code",
      "source": [
        "a_length = vector_length(a)\n",
        "x = 5\n",
        "theta = np.arccos(x / a_length)\n",
        "theta"
      ],
      "metadata": {
        "colab": {
          "base_uri": "https://localhost:8080/"
        },
        "id": "1hEUwzSbct14",
        "outputId": "151c2e17-a284-4ef4-bed3-18d6066b06e1"
      },
      "execution_count": 5,
      "outputs": [
        {
          "output_type": "execute_result",
          "data": {
            "text/plain": [
              "0.8760580505981933"
            ]
          },
          "metadata": {},
          "execution_count": 5
        }
      ]
    },
    {
      "cell_type": "code",
      "source": [
        "# the component of a on b\n",
        "a_length * np.cos(theta)"
      ],
      "metadata": {
        "colab": {
          "base_uri": "https://localhost:8080/"
        },
        "id": "4RgqmeAqVnN9",
        "outputId": "c72b57e7-e873-4567-e86c-fded0099f8c6"
      },
      "execution_count": 6,
      "outputs": [
        {
          "output_type": "execute_result",
          "data": {
            "text/plain": [
              "5.0"
            ]
          },
          "metadata": {},
          "execution_count": 6
        }
      ]
    },
    {
      "cell_type": "code",
      "source": [
        "b_length = vector_length(b)\n",
        "b_length"
      ],
      "metadata": {
        "colab": {
          "base_uri": "https://localhost:8080/"
        },
        "id": "q9_j-l5md47n",
        "outputId": "d07b6393-8b72-4440-bead-fbc54d78a713"
      },
      "execution_count": 7,
      "outputs": [
        {
          "output_type": "execute_result",
          "data": {
            "text/plain": [
              "9.0"
            ]
          },
          "metadata": {},
          "execution_count": 7
        }
      ]
    },
    {
      "cell_type": "code",
      "source": [
        "# the projection of a on b\n",
        "a_length * np.cos(theta) * (b / b_length)"
      ],
      "metadata": {
        "colab": {
          "base_uri": "https://localhost:8080/"
        },
        "id": "a6yHsvlYeH4t",
        "outputId": "1e7dc86d-00f4-4bd4-a8be-fe284c24f92a"
      },
      "execution_count": 8,
      "outputs": [
        {
          "output_type": "execute_result",
          "data": {
            "text/plain": [
              "array([5., 0.])"
            ]
          },
          "metadata": {},
          "execution_count": 8
        }
      ]
    },
    {
      "cell_type": "markdown",
      "source": [
        "## Example 2\n",
        "\n",
        "I'm confused about what to do about $\\theta$ when $\\frac{\\pi}{2} \\le \\theta \\le \\pi$ because the textbook I'm using is not clear on that."
      ],
      "metadata": {
        "id": "UjgCYk60pzuL"
      }
    },
    {
      "cell_type": "code",
      "source": [
        "a = np.array([-5, 6])\n",
        "b = np.array([-9, 0])"
      ],
      "metadata": {
        "id": "0uasZdcJsX2g"
      },
      "execution_count": 9,
      "outputs": []
    },
    {
      "cell_type": "code",
      "source": [
        "fig, ax = plt.subplots(1, 1, figsize=(5, 5))\n",
        "\n",
        "# vector a\n",
        "plt.quiver(0, 0, *a, scale=1, units='xy',\n",
        "           color='red', width=0.17)\n",
        "plt.annotate('$\\mathbf{a}$', xy=(-2, 3.2),\n",
        "             size=15, color='red')\n",
        "# vector b\n",
        "plt.quiver(0, 0, *b, scale=1, units='xy',\n",
        "           color='dodgerblue', width=0.17)\n",
        "plt.annotate('$\\mathbf{b}$', xy=(-4.5, -0.7),\n",
        "             size=15, color='dodgerblue')\n",
        "\n",
        "# line L\n",
        "x_l = np.linspace(-10, 1, 100)\n",
        "y_l = np.zeros_like(x_l)\n",
        "plt.plot(x_l, y_l, color='green',\n",
        "         linewidth=4, label='$L = \\{k\\mathbf{b}:k \\in \\mathbb{R}\\}$', zorder=-1)\n",
        "\n",
        "# adjacent side\n",
        "ax.add_line(plt.Line2D(xdata=(0, -5), ydata=(0, 0), color='black', linewidth=2))\n",
        "plt.annotate('x', xy=(-2.5, 0.2),\n",
        "             size=14, color='black')\n",
        "# opposite side\n",
        "ax.add_line(plt.Line2D(xdata=(-5, -5), ydata=(0, 6), color='black', linewidth=2))\n",
        "plt.annotate('y', xy=(-4.6, 3),\n",
        "             size=14, color='black')\n",
        "\n",
        "# right-angle\n",
        "ax.add_line(plt.Line2D(xdata=(-4.7, -4.7), ydata=(0, 0.3), color='black', linewidth=1))\n",
        "ax.add_line(plt.Line2D(xdata=(-4.7, -5), ydata=(0.3, 0.3), color='black', linewidth=1))\n",
        "\n",
        "# theta\n",
        "plt.annotate(r'$\\theta$', xy=(-1.2, 0.3), size=14)\n",
        "\n",
        "plt.title('$proj_{b}a$')\n",
        "plt.xlim(-10, 1)\n",
        "plt.ylim(-1, 10)\n",
        "plt.xticks(np.linspace(-10, 1, 12))\n",
        "plt.yticks(np.linspace(-1, 10, 12))\n",
        "plt.grid()\n",
        "plt.legend(loc='upper left')\n",
        "plt.show()"
      ],
      "metadata": {
        "colab": {
          "base_uri": "https://localhost:8080/",
          "height": 470
        },
        "id": "NYs9_3affaM1",
        "outputId": "8a774108-5984-4289-c91f-9c9b0b8c4e0d"
      },
      "execution_count": 10,
      "outputs": [
        {
          "output_type": "display_data",
          "data": {
            "text/plain": [
              "<Figure size 500x500 with 1 Axes>"
            ],
            "image/png": "[encoded data removed]"
          },
          "metadata": {}
        }
      ]
    },
    {
      "cell_type": "code",
      "source": [
        "a_length = vector_length(a)\n",
        "theta"
      ],
      "metadata": {
        "colab": {
          "base_uri": "https://localhost:8080/"
        },
        "id": "x8OG6HPMku4d",
        "outputId": "11efd805-7409-4f24-a8b2-139a21fe957c"
      },
      "execution_count": 11,
      "outputs": [
        {
          "output_type": "execute_result",
          "data": {
            "text/plain": [
              "0.8760580505981933"
            ]
          },
          "metadata": {},
          "execution_count": 11
        }
      ]
    },
    {
      "cell_type": "code",
      "source": [
        "# the component of a on b\n",
        "a_length * np.cos(theta)"
      ],
      "metadata": {
        "colab": {
          "base_uri": "https://localhost:8080/"
        },
        "id": "YpqjnWYOnXjM",
        "outputId": "df4877ed-9d53-4485-c7b8-98f09e08a474"
      },
      "execution_count": 12,
      "outputs": [
        {
          "output_type": "execute_result",
          "data": {
            "text/plain": [
              "5.0"
            ]
          },
          "metadata": {},
          "execution_count": 12
        }
      ]
    },
    {
      "cell_type": "code",
      "source": [
        "b_length = vector_length(b)\n",
        "b_length"
      ],
      "metadata": {
        "colab": {
          "base_uri": "https://localhost:8080/"
        },
        "id": "9IaC9DYZnhvq",
        "outputId": "ce22fc9a-9513-4211-a99d-c2a32367fe97"
      },
      "execution_count": 13,
      "outputs": [
        {
          "output_type": "execute_result",
          "data": {
            "text/plain": [
              "9.0"
            ]
          },
          "metadata": {},
          "execution_count": 13
        }
      ]
    },
    {
      "cell_type": "code",
      "source": [
        "# the projection of a on b\n",
        "a_length * np.cos(theta) * (b / b_length)"
      ],
      "metadata": {
        "colab": {
          "base_uri": "https://localhost:8080/"
        },
        "id": "_1_ZhK0-nmk-",
        "outputId": "f8cf94bc-fba9-40a2-f343-902a26c046e1"
      },
      "execution_count": 14,
      "outputs": [
        {
          "output_type": "execute_result",
          "data": {
            "text/plain": [
              "array([-5.,  0.])"
            ]
          },
          "metadata": {},
          "execution_count": 14
        }
      ]
    },
    {
      "cell_type": "markdown",
      "source": [
        "## Example 3"
      ],
      "metadata": {
        "id": "mm0f5yXmriP6"
      }
    },
    {
      "cell_type": "code",
      "source": [
        "a = np.array([1, 8])\n",
        "b = np.array([3, 4])"
      ],
      "metadata": {
        "id": "frSb-4Th0Kfj"
      },
      "execution_count": 15,
      "outputs": []
    },
    {
      "cell_type": "code",
      "source": [
        "fig, ax = plt.subplots(1, 1, figsize=(5, 5))\n",
        "\n",
        "# vector a\n",
        "plt.quiver(0, 0, *a, scale=1, units='xy',\n",
        "           color='red', width=0.17)\n",
        "plt.annotate('$\\mathbf{a}$', xy=(-0.1, 4),\n",
        "             size=15, color='red')\n",
        "# vector b\n",
        "plt.quiver(0, 0, *b, scale=1, units='xy',\n",
        "           color='dodgerblue', width=0.17)\n",
        "plt.annotate('$\\mathbf{b}$', xy=(1.7, 1.7),\n",
        "             size=15, color='dodgerblue')\n",
        "\n",
        "# line L\n",
        "x_l = np.linspace(-1, 10, 100)\n",
        "y_l = (4/3) * x_l\n",
        "plt.plot(x_l, y_l, color='lime',\n",
        "         linewidth=4, label='$L = \\{k\\mathbf{b}:k \\in \\mathbb{R}\\}$', zorder=-1)\n",
        "\n",
        "# adjacent side\n",
        "ax.add_line(plt.Line2D(xdata=(21/5, 0), ydata=(28/5, 0), color='black', linewidth=2))\n",
        "plt.annotate('x', xy=(3, 3),\n",
        "             size=14, color='black')\n",
        "# opposite side\n",
        "ax.add_line(plt.Line2D(xdata=(21/5, 1), ydata=(28/5, 8), color='black', linewidth=2))\n",
        "plt.annotate('y', xy=(2.7, 7),\n",
        "             size=14, color='black')\n",
        "\n",
        "# right-angle\n",
        "ax.add_line(plt.Line2D(xdata=(99/25, 189/50), ydata=(289/50, 277/50), color='black', linewidth=1))\n",
        "ax.add_line(plt.Line2D(xdata=(201/50, 189/50), ydata=(134/25, 277/50), color='black', linewidth=1))\n",
        "\n",
        "# theta\n",
        "plt.annotate(r'$\\theta$', xy=(0.4, 1.3), size=14)\n",
        "\n",
        "plt.title('$proj_{b}a$')\n",
        "plt.xlim(-1, 10)\n",
        "plt.ylim(-1, 10)\n",
        "plt.xticks(np.linspace(-1, 10, 12))\n",
        "plt.yticks(np.linspace(-1, 10, 12))\n",
        "plt.grid()\n",
        "plt.legend(loc='upper left')\n",
        "plt.show()"
      ],
      "metadata": {
        "colab": {
          "base_uri": "https://localhost:8080/",
          "height": 470
        },
        "id": "gWjMtJ0IpUur",
        "outputId": "76f6e397-2267-4b6f-a872-ae3c7ab47a80"
      },
      "execution_count": 16,
      "outputs": [
        {
          "output_type": "display_data",
          "data": {
            "text/plain": [
              "<Figure size 500x500 with 1 Axes>"
            ],
            "image/png": "[encoded data removed]"
          },
          "metadata": {}
        }
      ]
    },
    {
      "cell_type": "code",
      "source": [
        "a_length = vector_length(a)\n",
        "b_length = vector_length(b)\n",
        "a_length, b_length"
      ],
      "metadata": {
        "colab": {
          "base_uri": "https://localhost:8080/"
        },
        "id": "2vjWL4m22ufy",
        "outputId": "78d9eeb3-addc-4e0a-de75-1ef1ceae665e"
      },
      "execution_count": 17,
      "outputs": [
        {
          "output_type": "execute_result",
          "data": {
            "text/plain": [
              "(8.06225774829855, 5.0)"
            ]
          },
          "metadata": {},
          "execution_count": 17
        }
      ]
    },
    {
      "cell_type": "code",
      "source": [
        "theta = angle_between_two_vectors(a, b)\n",
        "theta"
      ],
      "metadata": {
        "colab": {
          "base_uri": "https://localhost:8080/"
        },
        "id": "5PSclpYx-bfR",
        "outputId": "4fbeaafe-7b64-45bf-8b9e-0d6bf0ecbd6e"
      },
      "execution_count": 18,
      "outputs": [
        {
          "output_type": "execute_result",
          "data": {
            "text/plain": [
              "0.5191461142465227"
            ]
          },
          "metadata": {},
          "execution_count": 18
        }
      ]
    },
    {
      "cell_type": "code",
      "source": [
        "# the component of a on b\n",
        "a_length * np.cos(theta)"
      ],
      "metadata": {
        "colab": {
          "base_uri": "https://localhost:8080/"
        },
        "id": "xvaoyA5_3bQo",
        "outputId": "dbf207cc-10ad-4688-f8ca-a3a477eb6b24"
      },
      "execution_count": 19,
      "outputs": [
        {
          "output_type": "execute_result",
          "data": {
            "text/plain": [
              "7.0"
            ]
          },
          "metadata": {},
          "execution_count": 19
        }
      ]
    },
    {
      "cell_type": "code",
      "source": [
        "b_length = vector_length(b)\n",
        "b_length"
      ],
      "metadata": {
        "colab": {
          "base_uri": "https://localhost:8080/"
        },
        "id": "3HID2FRc8ZIs",
        "outputId": "1b3d7a3b-0412-4cb9-e635-f33b0350f938"
      },
      "execution_count": 20,
      "outputs": [
        {
          "output_type": "execute_result",
          "data": {
            "text/plain": [
              "5.0"
            ]
          },
          "metadata": {},
          "execution_count": 20
        }
      ]
    },
    {
      "cell_type": "code",
      "source": [
        "# the projection of a on b\n",
        "test = a_length * np.cos(theta) * (b / b_length)\n",
        "test"
      ],
      "metadata": {
        "colab": {
          "base_uri": "https://localhost:8080/"
        },
        "id": "DnBfqJ5-8jOe",
        "outputId": "80512b3c-b204-4e3d-c5eb-38e12d823bcd"
      },
      "execution_count": 21,
      "outputs": [
        {
          "output_type": "execute_result",
          "data": {
            "text/plain": [
              "array([4.2, 5.6])"
            ]
          },
          "metadata": {},
          "execution_count": 21
        }
      ]
    },
    {
      "cell_type": "code",
      "source": [
        "vector_length(test)"
      ],
      "metadata": {
        "colab": {
          "base_uri": "https://localhost:8080/"
        },
        "id": "T05Zqb779ATH",
        "outputId": "160fec09-7101-4f5a-b801-e19494749bd7"
      },
      "execution_count": 22,
      "outputs": [
        {
          "output_type": "execute_result",
          "data": {
            "text/plain": [
              "7.000000000000001"
            ]
          },
          "metadata": {},
          "execution_count": 22
        }
      ]
    },
    {
      "cell_type": "markdown",
      "source": [
        "## Exercises"
      ],
      "metadata": {
        "id": "PeyyBbDK9lKJ"
      }
    },
    {
      "cell_type": "markdown",
      "source": [
        "### The component of $\\mathbf{a} = (1, 0)$ on $\\mathbf{b} = (-3, 7)$"
      ],
      "metadata": {
        "id": "-J0TPj7j9y28"
      }
    },
    {
      "cell_type": "code",
      "source": [
        "a = np.array([1, 0])\n",
        "b = np.array([-3, 7])"
      ],
      "metadata": {
        "id": "a1DMUVEy-1sY"
      },
      "execution_count": 23,
      "outputs": []
    },
    {
      "cell_type": "code",
      "source": [
        "theta = angle_between_two_vectors(a, b)\n",
        "theta"
      ],
      "metadata": {
        "colab": {
          "base_uri": "https://localhost:8080/"
        },
        "id": "EwH-ezr0-DO1",
        "outputId": "a163018b-c5df-41df-d45a-c5c04c9ad8f1"
      },
      "execution_count": 24,
      "outputs": [
        {
          "output_type": "execute_result",
          "data": {
            "text/plain": [
              "1.97568811307998"
            ]
          },
          "metadata": {},
          "execution_count": 24
        }
      ]
    },
    {
      "cell_type": "code",
      "source": [
        "# component of a on b\n",
        "vector_length(a) * np.cos(theta)"
      ],
      "metadata": {
        "colab": {
          "base_uri": "https://localhost:8080/"
        },
        "id": "UfdZjAuj-pip",
        "outputId": "e6ea0f87-7939-404d-f84b-fbf4db6266bb"
      },
      "execution_count": 25,
      "outputs": [
        {
          "output_type": "execute_result",
          "data": {
            "text/plain": [
              "-0.3939192985791676"
            ]
          },
          "metadata": {},
          "execution_count": 25
        }
      ]
    },
    {
      "cell_type": "markdown",
      "source": [
        "### The projection of $\\mathbf{a} = (4, 3)$ on $\\mathbf{b} = (0, 1)$"
      ],
      "metadata": {
        "id": "l4vAJAGO_Hxb"
      }
    },
    {
      "cell_type": "code",
      "source": [
        "a = np.array([4, 3])\n",
        "b = np.array([0, 1])"
      ],
      "metadata": {
        "id": "tgtclLmc_b5q"
      },
      "execution_count": 26,
      "outputs": []
    },
    {
      "cell_type": "code",
      "source": [
        "theta = angle_between_two_vectors(a, b)\n",
        "theta"
      ],
      "metadata": {
        "colab": {
          "base_uri": "https://localhost:8080/"
        },
        "id": "rYk6K_qF_0Kl",
        "outputId": "237c7c87-5972-4ec2-b4c1-cf2382c70fb2"
      },
      "execution_count": 27,
      "outputs": [
        {
          "output_type": "execute_result",
          "data": {
            "text/plain": [
              "0.9272952180016123"
            ]
          },
          "metadata": {},
          "execution_count": 27
        }
      ]
    },
    {
      "cell_type": "code",
      "source": [
        "# projection of a on b\n",
        "vector_length(a) * np.cos(theta) * b / vector_length(b)"
      ],
      "metadata": {
        "colab": {
          "base_uri": "https://localhost:8080/"
        },
        "id": "vIC60if-_uxN",
        "outputId": "92957c22-998e-4fc4-be7b-7b6e12527292"
      },
      "execution_count": 28,
      "outputs": [
        {
          "output_type": "execute_result",
          "data": {
            "text/plain": [
              "array([0., 3.])"
            ]
          },
          "metadata": {},
          "execution_count": 28
        }
      ]
    },
    {
      "cell_type": "markdown",
      "source": [
        "### The projection of $\\mathbf{a} = (0, 1)$ on $\\mathbf{b} = (-3, -6)$"
      ],
      "metadata": {
        "id": "P88f81fXAaPa"
      }
    },
    {
      "cell_type": "code",
      "source": [
        "a = np.array([0, 1])\n",
        "b = np.array([-3, -6])"
      ],
      "metadata": {
        "id": "HeVTG9n9AmXC"
      },
      "execution_count": 29,
      "outputs": []
    },
    {
      "cell_type": "code",
      "source": [
        "theta = angle_between_two_vectors(a, b)\n",
        "theta"
      ],
      "metadata": {
        "colab": {
          "base_uri": "https://localhost:8080/"
        },
        "id": "96c001ZOAvh7",
        "outputId": "d8bf9989-ab44-40bf-c2a7-a697dd43938b"
      },
      "execution_count": 30,
      "outputs": [
        {
          "output_type": "execute_result",
          "data": {
            "text/plain": [
              "2.677945044588987"
            ]
          },
          "metadata": {},
          "execution_count": 30
        }
      ]
    },
    {
      "cell_type": "code",
      "source": [
        "# projection of a on b\n",
        "vector_length(a) * np.cos(theta) * b / vector_length(b)"
      ],
      "metadata": {
        "colab": {
          "base_uri": "https://localhost:8080/"
        },
        "id": "cAO1j5ncA0vg",
        "outputId": "c4c91ae1-68ec-44dd-9ddf-3816714640e5"
      },
      "execution_count": 31,
      "outputs": [
        {
          "output_type": "execute_result",
          "data": {
            "text/plain": [
              "array([0.4, 0.8])"
            ]
          },
          "metadata": {},
          "execution_count": 31
        }
      ]
    },
    {
      "cell_type": "markdown",
      "source": [
        "### The component of $\\mathbf{a} = (-7, 1)$ on $\\mathbf{b} = (1, 0)$"
      ],
      "metadata": {
        "id": "Fg7OYPNDBEP7"
      }
    },
    {
      "cell_type": "code",
      "source": [
        "a = np.array([-7, 1])\n",
        "b = np.array([1, 0])"
      ],
      "metadata": {
        "id": "a8SvmMRFBfDg"
      },
      "execution_count": 32,
      "outputs": []
    },
    {
      "cell_type": "code",
      "source": [
        "theta = angle_between_two_vectors(a, b)\n",
        "theta"
      ],
      "metadata": {
        "colab": {
          "base_uri": "https://localhost:8080/"
        },
        "id": "jimPGd0oBj2o",
        "outputId": "168d792c-e8a1-4b96-97d3-e13bd96b0aa6"
      },
      "execution_count": 33,
      "outputs": [
        {
          "output_type": "execute_result",
          "data": {
            "text/plain": [
              "2.9996955989856287"
            ]
          },
          "metadata": {},
          "execution_count": 33
        }
      ]
    },
    {
      "cell_type": "code",
      "source": [
        "vector_length(a) * np.cos(theta)"
      ],
      "metadata": {
        "colab": {
          "base_uri": "https://localhost:8080/"
        },
        "id": "yeCUJ_YoBmyD",
        "outputId": "bcb6b88b-4fd3-491e-9ba0-938af34c8bcb"
      },
      "execution_count": 34,
      "outputs": [
        {
          "output_type": "execute_result",
          "data": {
            "text/plain": [
              "-7.0"
            ]
          },
          "metadata": {},
          "execution_count": 34
        }
      ]
    },
    {
      "cell_type": "markdown",
      "source": [
        "### The projection of $\\mathbf{a} = (-4, 3)$ and $\\mathbf{b} = (-2, -7)$"
      ],
      "metadata": {
        "id": "_vGIFcotB09m"
      }
    },
    {
      "cell_type": "code",
      "source": [
        "a = np.array([-4, 3])\n",
        "b = np.array([-2, -7])"
      ],
      "metadata": {
        "id": "7yckBMF9CANq"
      },
      "execution_count": 35,
      "outputs": []
    },
    {
      "cell_type": "code",
      "source": [
        "theta = angle_between_two_vectors(a, b)\n",
        "theta"
      ],
      "metadata": {
        "colab": {
          "base_uri": "https://localhost:8080/"
        },
        "id": "7Qe3u0xzCGZ4",
        "outputId": "0f822eab-baee-4e7b-bc58-cfe025b28d85"
      },
      "execution_count": 36,
      "outputs": [
        {
          "output_type": "execute_result",
          "data": {
            "text/plain": [
              "1.9359977765830696"
            ]
          },
          "metadata": {},
          "execution_count": 36
        }
      ]
    },
    {
      "cell_type": "code",
      "source": [
        "vector_length(a) * np.cos(theta) * b / vector_length(b)"
      ],
      "metadata": {
        "colab": {
          "base_uri": "https://localhost:8080/"
        },
        "id": "CQAoZ275CKcC",
        "outputId": "cfabfe1e-8a26-4a16-84bc-007cb181fafd"
      },
      "execution_count": 37,
      "outputs": [
        {
          "output_type": "execute_result",
          "data": {
            "text/plain": [
              "array([0.49056604, 1.71698113])"
            ]
          },
          "metadata": {},
          "execution_count": 37
        }
      ]
    }
  ]
}