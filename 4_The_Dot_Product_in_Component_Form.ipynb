{
  "nbformat": 4,
  "nbformat_minor": 0,
  "metadata": {
    "colab": {
      "provenance": [],
      "toc_visible": true,
      "authorship_tag": "ABX9TyPMs1MzR3cf6hqQSXa87BxQ",
      "include_colab_link": true
    },
    "kernelspec": {
      "name": "python3",
      "display_name": "Python 3"
    },
    "language_info": {
      "name": "python"
    }
  },
  "cells": [
    {
      "cell_type": "markdown",
      "metadata": {
        "id": "view-in-github",
        "colab_type": "text"
      },
      "source": [
        "<a href=\"https://colab.research.google.com/github/PaulToronto/Review-of-Linear-Algebra-Basics/blob/main/4_The_Dot_Product_in_Component_Form.ipynb\" target=\"_parent\"><img src=\"https://colab.research.google.com/assets/colab-badge.svg\" alt=\"Open In Colab\"/></a>"
      ]
    },
    {
      "cell_type": "markdown",
      "source": [
        "# The Dot Product in Component Form"
      ],
      "metadata": {
        "id": "5-XpuwJjayJO"
      }
    },
    {
      "cell_type": "markdown",
      "source": [
        "## Imports"
      ],
      "metadata": {
        "id": "RwMOMmxBa1nx"
      }
    },
    {
      "cell_type": "code",
      "execution_count": 1,
      "metadata": {
        "id": "yhJwzi06aiwH"
      },
      "outputs": [],
      "source": [
        "import matplotlib.pyplot as plt\n",
        "import numpy as np"
      ]
    },
    {
      "cell_type": "markdown",
      "source": [
        "## Component Form\n",
        "\n",
        "If $\\mathbf{a} = \\left(a_1, a_2, a_3\\right)$ and $\\mathbf{b} = \\left(b_1, b_2, b_3\\right)$, then\n",
        "\n",
        "$$\n",
        "\\mathbf{a}\\cdot\\mathbf{b} = a_1b_1 + a_2b_2 + a_3b_3\n",
        "$$\n",
        "\n",
        "\n"
      ],
      "metadata": {
        "id": "Asw2GuLOrFda"
      }
    },
    {
      "cell_type": "markdown",
      "source": [
        "## Proof"
      ],
      "metadata": {
        "id": "JYl16CPPteVV"
      }
    },
    {
      "cell_type": "code",
      "source": [
        "a = np.array([1, 9])\n",
        "b = np.array([7, 4])\n",
        "\n",
        "c = a - b\n",
        "c"
      ],
      "metadata": {
        "colab": {
          "base_uri": "https://localhost:8080/"
        },
        "id": "PxLuoDJjttaz",
        "outputId": "645dbca4-4436-413d-c1f1-f15f41403f26"
      },
      "execution_count": 2,
      "outputs": [
        {
          "output_type": "execute_result",
          "data": {
            "text/plain": [
              "array([-6,  5])"
            ]
          },
          "metadata": {},
          "execution_count": 2
        }
      ]
    },
    {
      "cell_type": "code",
      "source": [
        "plt.figure(figsize=(5, 5))\n",
        "\n",
        "# vector a\n",
        "plt.quiver(0, 0, *a, scale=1, units='xy',\n",
        "          color='red', width=0.17)\n",
        "plt.annotate('$\\mathbf{a}$', xy=(-0.1, 5),\n",
        "             size=15, color='red')\n",
        "# vector b\n",
        "plt.quiver(0, 0, *b, scale=1, units='xy',\n",
        "           color='dodgerblue', width=0.17)\n",
        "plt.annotate('$\\mathbf{b}$', xy=(3, 2.5),\n",
        "             size=15, color='dodgerblue')\n",
        "\n",
        "c = a - b\n",
        "plt.quiver(*b, *c, scale=1, units='xy',\n",
        "          color='green', width=0.17)\n",
        "plt.annotate('$\\mathbf{a} - \\mathbf{b}$', xy=(4.6, 6.7),\n",
        "             size=15, color='green')\n",
        "\n",
        "# theta\n",
        "plt.annotate(r'$\\theta$', xy=(0.5, 1), size=14)\n",
        "\n",
        "plt.xlim(-1, 10)\n",
        "plt.ylim(-1, 10)\n",
        "plt.axis('off')\n",
        "plt.show()"
      ],
      "metadata": {
        "colab": {
          "base_uri": "https://localhost:8080/",
          "height": 422
        },
        "id": "DUw0alF8xzMx",
        "outputId": "e413b363-a140-4bf5-b57d-2a37dc1c710a"
      },
      "execution_count": 3,
      "outputs": [
        {
          "output_type": "display_data",
          "data": {
            "text/plain": [
              "<Figure size 500x500 with 1 Axes>"
            ],
            "image/png": "[encoded data removed]"
          },
          "metadata": {}
        }
      ]
    },
    {
      "cell_type": "markdown",
      "source": [
        "Let $\\theta$ be the angle between $\\mathbf{a}$ and $\\mathbf{b}$. By the **Law of Cosines**.\n",
        "\n",
        "This proof makes use of the following:\n",
        "\n",
        "1. The dot product is commutative\n",
        "2. The dot product is distributive\n",
        "3. The dot product with itself: $\\mathbf{a}\\cdot\\mathbf{a} = \\left|\\mathbf{a}\\right|^{2}$\n",
        "4. $m\\mathbf{a}\\cdot n\\mathbf{b} = (mn)(\\mathbf{a}\\cdot\\mathbf{b})$\n",
        "\n",
        "$$\n",
        "\\begin{align}\n",
        "\\left|\\mathbf{a}\\right|^{2} + \\left|\\mathbf{b}\\right|^{2} - 2\\left|\\mathbf{a}\\right|\\left|\\mathbf{b}\\right|\\cos{\\theta} &= \\left|\\mathbf{a} - \\mathbf{b}\\right|^{2} \\\\\n",
        "&= (\\mathbf{a} - \\mathbf{b})\\cdot(\\mathbf{a} - \\mathbf{b}) \\\\\n",
        "&= \\mathbf{a}\\cdot\\mathbf{a} - 2(\\mathbf{a}\\cdot\\mathbf{b}) + \\mathbf{b}\\cdot\\mathbf{b} \\\\\n",
        "&= \\left|\\mathbf{a}\\right|^{2} - 2(\\mathbf{a}\\cdot\\mathbf{b}) +  \\left|\\mathbf{b}\\right|^{2}\n",
        "\\end{align}\n",
        "$$\n",
        "\n",
        "$$\n",
        "\\implies\n",
        "$$\n",
        "\n",
        "$$\n",
        "\\begin{align}\n",
        "\\left|\\mathbf{a}\\right|^{2} + \\left|\\mathbf{b}\\right|^{2} - 2\\left|\\mathbf{a}\\right|\\left|\\mathbf{b}\\right|\\cos{\\theta} &= \\left|\\mathbf{a}\\right|^{2} - 2(\\mathbf{a}\\cdot\\mathbf{b}) +  \\left|\\mathbf{b}\\right|^{2}\n",
        "\\end{align}\n",
        "$$\n",
        "\n",
        "$$\n",
        "\\implies\n",
        "$$\n",
        "\n",
        "$$\n",
        "\\mathbf{a}\\cdot\\mathbf{b} = \\left|\\mathbf{a}\\right|\\left|\\mathbf{b}\\right|\\cos{\\theta}\n",
        "$$"
      ],
      "metadata": {
        "id": "cRJdqEP313xW"
      }
    }
  ]
}