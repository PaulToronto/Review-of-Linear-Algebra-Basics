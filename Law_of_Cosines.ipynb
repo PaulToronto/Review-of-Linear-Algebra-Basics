{
  "nbformat": 4,
  "nbformat_minor": 0,
  "metadata": {
    "colab": {
      "provenance": [],
      "authorship_tag": "ABX9TyNWRMEWzS1gp+kPd3iMvpGQ",
      "include_colab_link": true
    },
    "kernelspec": {
      "name": "python3",
      "display_name": "Python 3"
    },
    "language_info": {
      "name": "python"
    }
  },
  "cells": [
    {
      "cell_type": "markdown",
      "metadata": {
        "id": "view-in-github",
        "colab_type": "text"
      },
      "source": [
        "<a href=\"https://colab.research.google.com/github/PaulToronto/Review-of-Linear-Algebra-Basics/blob/main/Law_of_Cosines.ipynb\" target=\"_parent\"><img src=\"https://colab.research.google.com/assets/colab-badge.svg\" alt=\"Open In Colab\"/></a>"
      ]
    },
    {
      "cell_type": "markdown",
      "source": [
        "# Law of Cosines"
      ],
      "metadata": {
        "id": "SbXu4fRnplbm"
      }
    },
    {
      "cell_type": "markdown",
      "source": [
        "<img src='https://drive.google.com/uc?export=view&id=1olZHwDN2LDiELaSfEVP6fnDF3zlSRp_F'>\n",
        "\n",
        "The **law of cosines** states that\n",
        "\n",
        "$\n",
        "c^2 = a^2 + b^2 - 2ab\\cos{\\theta}\n",
        "$\n",
        "\n",
        "where $\\theta$ is the angle between sides a and b."
      ],
      "metadata": {
        "id": "gg7omIPfppij"
      }
    },
    {
      "cell_type": "markdown",
      "source": [
        "## Proof\n",
        "\n",
        "$$\n",
        "\\begin{align}\n",
        "\\cos{\\theta} = \\dfrac{CD}{a} &\\implies CD = a\\cos{\\theta} \\\\\n",
        "\\sin{\\theta} = \\dfrac{BD}{a} &\\implies BD = a\\sin{\\theta} \\\\\n",
        "DA = b - CD &\\implies DA = b - a\\cos{\\theta}\n",
        "\\end{align}\n",
        "$$\n",
        "\n",
        "<br/>Applying the Pythagorean Therom to triangle ADB:<br/><br/>\n",
        "\n",
        "$$\n",
        "\\\\\n",
        "\\begin{align}\n",
        "c^{2} &= BD^{2} + DA^{2} \\\\\n",
        "&= (a\\sin{\\theta})^{2} + (b - a\\cos{\\theta})^{2} \\\\\n",
        "&= a^{2}\\sin^{2}{\\theta} + b^{2} - 2ab\\cos{\\theta} + a^{2}\\cos^{2}{\\theta} \\\\\n",
        "&= a^{2}\\sin^{2}{\\theta} + a^{2}\\cos^{2}{\\theta}  + b^{2}  - 2ab\\cos{\\theta} \\\\\n",
        "&= a^2\\left(\\sin^{2}{\\theta} + \\cos^{2}{\\theta}\\right) + b^2 - 2ab\\cos{\\theta} \\\\ &= a^2 + b^2 - 2ab\\cos{\\theta}\n",
        "\\end{align}\n",
        "$$"
      ],
      "metadata": {
        "id": "UPAn2Rs3qZ4v"
      }
    }
  ]
}