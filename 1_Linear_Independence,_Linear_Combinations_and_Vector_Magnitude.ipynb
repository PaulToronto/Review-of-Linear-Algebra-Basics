{
  "nbformat": 4,
  "nbformat_minor": 0,
  "metadata": {
    "colab": {
      "provenance": [],
      "toc_visible": true,
      "authorship_tag": "ABX9TyNHDMj3A4uhoQC8vYV7jAcZ",
      "include_colab_link": true
    },
    "kernelspec": {
      "name": "python3",
      "display_name": "Python 3"
    },
    "language_info": {
      "name": "python"
    }
  },
  "cells": [
    {
      "cell_type": "markdown",
      "metadata": {
        "id": "view-in-github",
        "colab_type": "text"
      },
      "source": [
        "<a href=\"https://colab.research.google.com/github/PaulToronto/Review-of-Linear-Algebra-Basics/blob/main/1_Linear_Independence%2C_Linear_Combinations_and_Vector_Magnitude.ipynb\" target=\"_parent\"><img src=\"https://colab.research.google.com/assets/colab-badge.svg\" alt=\"Open In Colab\"/></a>"
      ]
    },
    {
      "cell_type": "markdown",
      "source": [
        "# Linear Independence, Linear Combinations and Vector Magnitude"
      ],
      "metadata": {
        "id": "Q6qeF1fDVPl3"
      }
    },
    {
      "cell_type": "markdown",
      "source": [
        "## Imports"
      ],
      "metadata": {
        "id": "LFWfoYfsVSXX"
      }
    },
    {
      "cell_type": "code",
      "execution_count": 1,
      "metadata": {
        "id": "RvRG5lNdVIas"
      },
      "outputs": [],
      "source": [
        "import sympy as sym\n",
        "import numpy as np"
      ]
    },
    {
      "cell_type": "markdown",
      "source": [
        "## Linear Combinations of Vectors"
      ],
      "metadata": {
        "id": "g5IP6eqTWGmB"
      }
    },
    {
      "cell_type": "markdown",
      "source": [
        "### Linearly Dependent vs. Linearly Independent"
      ],
      "metadata": {
        "id": "2sWdMtA6XrEI"
      }
    },
    {
      "cell_type": "markdown",
      "source": [
        "The vectors in the set, $S = \\{\\vec{v_1}, \\vec{v_2}, \\vec{v_3}, \\cdots, \\vec{v_k}\\}, k \\in \\mathbb{N}$ are said to be **linearly dependent** if and only if there are $k$ real numbers, $m_1, m_2, m_3 \\cdots m_k$, **not all zero** such that\n",
        "\n",
        "$$\n",
        "m_1\\vec{v_1} + m_2\\vec{v_2} + m_3\\vec{v_3} + \\cdots m_k\\vec{v_k} = \\vec{0}\n",
        "$$\n",
        "\n",
        "If only the trivial solution exists, then the vectors in the set are said to be **linearly independent**."
      ],
      "metadata": {
        "id": "jE9JCWTYW_ph"
      }
    },
    {
      "cell_type": "markdown",
      "source": [
        "### Characteristics of Linearly Dependent Vectors\n",
        "\n",
        "#### Linearly dependent vectors, $\\vec{a}$ and $\\vec{b}$ in 2-Space\n",
        "\n",
        "- $\\vec{a} || \\vec{b}$\n",
        "- $\\vec{a} = k\\vec{b}$\n",
        "- $m\\vec{a} + m\\vec{b} = \\vec{0}$ has a non-trivial solution\n",
        "\n",
        "#### Linearly dependent vectors, $\\vec{a}$, $\\vec{b}$ and $\\vec{c}$ in 2-Space\n",
        "\n",
        "- $\\vec{a}$, $\\vec{b}$, $\\vec{c}$ are coplanar\n",
        "- $\\vec{a} = s\\vec{b} + t\\vec{c}$\n",
        "- $m\\vec{a} + n\\vec{b} + p\\vec{c} = \\vec{0}$ has a non-trivial solution"
      ],
      "metadata": {
        "id": "u68xpX0Sa0in"
      }
    },
    {
      "cell_type": "markdown",
      "source": [
        "### Example\n",
        "\n",
        "Prove that the following vectors are linearly independent.\n",
        "\n",
        "$$\n",
        "\\vec{a} = \\begin{bmatrix}1 \\\\ 1 \\\\ 1\\end{bmatrix},\n",
        "\\vec{b} = \\begin{bmatrix}2 \\\\ 3 \\\\ -1\\end{bmatrix},\n",
        "\\vec{c} = \\begin{bmatrix}3 \\\\ -2 \\\\ 0\\end{bmatrix}\n",
        "$$"
      ],
      "metadata": {
        "id": "SyQCVrcmdCBg"
      }
    },
    {
      "cell_type": "markdown",
      "source": [
        "$$\n",
        "\\begin{align}\n",
        "m_1\\vec{a} + m_2\\vec{b} + m_3\\vec{c} = \\vec{0} \\\\\n",
        "\\implies\n",
        "\\begin{bmatrix}1 & 2 & 3\\\\1 & 3 & -2\\\\1 & -1 & 0\\end{bmatrix}\n",
        "\\begin{bmatrix}m_1\\\\m_2\\\\m_3\\end{bmatrix} =\n",
        "\\begin{bmatrix}0\\\\0\\\\0\\end{bmatrix}\n",
        "\\end{align}\n",
        "$$"
      ],
      "metadata": {
        "id": "OF1BsDu9ebB5"
      }
    },
    {
      "cell_type": "markdown",
      "source": [
        "#### Solution"
      ],
      "metadata": {
        "id": "M65jAZ2jiJAo"
      }
    },
    {
      "cell_type": "code",
      "source": [
        "m1, m2, m3 = sym.symbols('m_1 m_2 m_3')\n",
        "\n",
        "A = sym.Matrix([[1, 2, 3],\n",
        "                [1, 3, -2],\n",
        "                [1, -1, 0]])\n",
        "M = sym.Matrix([m1, m2, m3])\n",
        "O = sym.Matrix([0, 0, 0])"
      ],
      "metadata": {
        "id": "PzE6mFIFfh-A"
      },
      "execution_count": 2,
      "outputs": []
    },
    {
      "cell_type": "code",
      "source": [
        "# one solution\n",
        "A.inv() @ O"
      ],
      "metadata": {
        "colab": {
          "base_uri": "https://localhost:8080/",
          "height": 78
        },
        "id": "J9ghE0mCgF2b",
        "outputId": "4f6fe21e-2dc5-4048-c063-f0ec7e2f937a"
      },
      "execution_count": 3,
      "outputs": [
        {
          "output_type": "execute_result",
          "data": {
            "text/plain": [
              "Matrix([\n",
              "[0],\n",
              "[0],\n",
              "[0]])"
            ],
            "text/latex": "$\\displaystyle \\left[\\begin{matrix}0\\\\0\\\\0\\end{matrix}\\right]$"
          },
          "metadata": {},
          "execution_count": 3
        }
      ]
    },
    {
      "cell_type": "code",
      "source": [
        "# alternate solution\n",
        "A.solve(O)"
      ],
      "metadata": {
        "colab": {
          "base_uri": "https://localhost:8080/",
          "height": 78
        },
        "id": "6TN2wo2mhOQw",
        "outputId": "90b2c91f-daff-4680-8165-6dcdb8008916"
      },
      "execution_count": 4,
      "outputs": [
        {
          "output_type": "execute_result",
          "data": {
            "text/plain": [
              "Matrix([\n",
              "[0],\n",
              "[0],\n",
              "[0]])"
            ],
            "text/latex": "$\\displaystyle \\left[\\begin{matrix}0\\\\0\\\\0\\end{matrix}\\right]$"
          },
          "metadata": {},
          "execution_count": 4
        }
      ]
    },
    {
      "cell_type": "code",
      "source": [
        "# alternatively\n",
        "Aug = A.col_insert(3, O)\n",
        "Aug"
      ],
      "metadata": {
        "colab": {
          "base_uri": "https://localhost:8080/",
          "height": 78
        },
        "id": "Q8vaoRkMhT0O",
        "outputId": "6832ea1c-aaba-4aa4-dea5-9119b4a21f9d"
      },
      "execution_count": 5,
      "outputs": [
        {
          "output_type": "execute_result",
          "data": {
            "text/plain": [
              "Matrix([\n",
              "[1,  2,  3, 0],\n",
              "[1,  3, -2, 0],\n",
              "[1, -1,  0, 0]])"
            ],
            "text/latex": "$\\displaystyle \\left[\\begin{matrix}1 & 2 & 3 & 0\\\\1 & 3 & -2 & 0\\\\1 & -1 & 0 & 0\\end{matrix}\\right]$"
          },
          "metadata": {},
          "execution_count": 5
        }
      ]
    },
    {
      "cell_type": "code",
      "source": [
        "# we can see that there is only the trivial solution\n",
        "Aug.rref(pivots=False)"
      ],
      "metadata": {
        "colab": {
          "base_uri": "https://localhost:8080/",
          "height": 78
        },
        "id": "hcHux6u1hyxl",
        "outputId": "abcc1fb6-c767-4997-8472-f21fd84e5493"
      },
      "execution_count": 6,
      "outputs": [
        {
          "output_type": "execute_result",
          "data": {
            "text/plain": [
              "Matrix([\n",
              "[1, 0, 0, 0],\n",
              "[0, 1, 0, 0],\n",
              "[0, 0, 1, 0]])"
            ],
            "text/latex": "$\\displaystyle \\left[\\begin{matrix}1 & 0 & 0 & 0\\\\0 & 1 & 0 & 0\\\\0 & 0 & 1 & 0\\end{matrix}\\right]$"
          },
          "metadata": {},
          "execution_count": 6
        }
      ]
    },
    {
      "cell_type": "markdown",
      "source": [
        "$m_1\\vec{a} + m_2\\vec{b} + m_3\\vec{c} = \\vec{0}$ has only the trivial solution.\n",
        "\n",
        " $\\therefore \\vec{a}$, $\\vec{b}$, $\\vec{c}$ are linearly independent."
      ],
      "metadata": {
        "id": "lZm3wug0iMOi"
      }
    },
    {
      "cell_type": "markdown",
      "source": [
        "### Example\n",
        "\n",
        "Express\n",
        "\n",
        "$$\n",
        "\\vec{d} = \\begin{bmatrix}1\\\\12\\\\4\\end{bmatrix}\n",
        "$$\n",
        "\n",
        "as a linear combination of $\\vec{a}$, $\\vec{b}$ and $\\vec{c}$ from the previous example."
      ],
      "metadata": {
        "id": "AQwb7VJMisey"
      }
    },
    {
      "cell_type": "markdown",
      "source": [
        "<hr/>"
      ],
      "metadata": {
        "id": "ugSYwB7AlGgs"
      }
    },
    {
      "cell_type": "markdown",
      "source": [
        "#### Solution"
      ],
      "metadata": {
        "id": "VwzwQ4hNj7fl"
      }
    },
    {
      "cell_type": "markdown",
      "source": [
        "$$\n",
        "\\begin{align}\n",
        "m_1\\vec{a} + m_2\\vec{b} + m_3\\vec{c} = \\vec{d} \\\\\n",
        "\\implies\n",
        "\\begin{bmatrix}1 & 2 & 3\\\\1 & 3 & -2\\\\1 & -1 & 0\\end{bmatrix}\n",
        "\\begin{bmatrix}m_1\\\\m_2\\\\m_3\\end{bmatrix} =\n",
        "\\begin{bmatrix}1\\\\12\\\\4\\end{bmatrix}\n",
        "\\end{align}\n",
        "$$\n",
        "\n",
        "Let $A$ be the augmented matrix for this system of linear equations"
      ],
      "metadata": {
        "id": "F9oU7VAykGrB"
      }
    },
    {
      "cell_type": "code",
      "source": [
        "A = sym.Matrix([[1, 2, 3, 1],\n",
        "                [1, 3, -2, 12],\n",
        "                [1, -1, 0, 4]])"
      ],
      "metadata": {
        "id": "W3Gprj1fkShf"
      },
      "execution_count": 7,
      "outputs": []
    },
    {
      "cell_type": "code",
      "source": [
        "# one solution\n",
        "A.rref(pivots=False)"
      ],
      "metadata": {
        "colab": {
          "base_uri": "https://localhost:8080/",
          "height": 78
        },
        "id": "w7Fs1gnJkeVA",
        "outputId": "a1ca9a4b-ed1b-4764-bf6b-7e023b7f53a7"
      },
      "execution_count": 8,
      "outputs": [
        {
          "output_type": "execute_result",
          "data": {
            "text/plain": [
              "Matrix([\n",
              "[1, 0, 0,  5],\n",
              "[0, 1, 0,  1],\n",
              "[0, 0, 1, -2]])"
            ],
            "text/latex": "$\\displaystyle \\left[\\begin{matrix}1 & 0 & 0 & 5\\\\0 & 1 & 0 & 1\\\\0 & 0 & 1 & -2\\end{matrix}\\right]$"
          },
          "metadata": {},
          "execution_count": 8
        }
      ]
    },
    {
      "cell_type": "markdown",
      "source": [
        "$m_1 = 5, m_2 = 1, m_3 = -2$\n",
        "\n",
        "$\\therefore \\vec{d} = 5\\vec{a} + \\vec{b} - 2\\vec{c}$"
      ],
      "metadata": {
        "id": "qmbyDZ8okllf"
      }
    },
    {
      "cell_type": "code",
      "source": [
        "# alternately\n",
        "A = A[:,0:-1]\n",
        "A"
      ],
      "metadata": {
        "colab": {
          "base_uri": "https://localhost:8080/",
          "height": 78
        },
        "id": "ZW7EKlI_kkpn",
        "outputId": "36cbc9fe-56e6-4c1a-bc15-6c747906cab0"
      },
      "execution_count": 9,
      "outputs": [
        {
          "output_type": "execute_result",
          "data": {
            "text/plain": [
              "Matrix([\n",
              "[1,  2,  3],\n",
              "[1,  3, -2],\n",
              "[1, -1,  0]])"
            ],
            "text/latex": "$\\displaystyle \\left[\\begin{matrix}1 & 2 & 3\\\\1 & 3 & -2\\\\1 & -1 & 0\\end{matrix}\\right]$"
          },
          "metadata": {},
          "execution_count": 9
        }
      ]
    },
    {
      "cell_type": "code",
      "source": [
        "D = sym.Matrix([1, 12, 4])\n",
        "A.solve(D)"
      ],
      "metadata": {
        "colab": {
          "base_uri": "https://localhost:8080/",
          "height": 78
        },
        "id": "Hj_1fv9glPgX",
        "outputId": "2de3bc88-268c-4082-a21e-952d415d89f4"
      },
      "execution_count": 10,
      "outputs": [
        {
          "output_type": "execute_result",
          "data": {
            "text/plain": [
              "Matrix([\n",
              "[ 5],\n",
              "[ 1],\n",
              "[-2]])"
            ],
            "text/latex": "$\\displaystyle \\left[\\begin{matrix}5\\\\1\\\\-2\\end{matrix}\\right]$"
          },
          "metadata": {},
          "execution_count": 10
        }
      ]
    },
    {
      "cell_type": "markdown",
      "source": [
        "$$\n",
        "\\begin{align}\n",
        "AM = D\n",
        "&\\implies A^{-1}AM = A^{-1}D \\\\\n",
        "&\\implies IM = A^{-1}D \\\\\n",
        "&\\implies M = A^{-1}D\n",
        "\\end{align}\n",
        "$$"
      ],
      "metadata": {
        "id": "rjcw2SYorN__"
      }
    },
    {
      "cell_type": "code",
      "source": [
        "# alternatively\n",
        "A.inv() @ D"
      ],
      "metadata": {
        "colab": {
          "base_uri": "https://localhost:8080/",
          "height": 78
        },
        "id": "B1UQ-kmOlXYf",
        "outputId": "ccd913fe-7dfb-43e0-8707-1b9ab3afb361"
      },
      "execution_count": 11,
      "outputs": [
        {
          "output_type": "execute_result",
          "data": {
            "text/plain": [
              "Matrix([\n",
              "[ 5],\n",
              "[ 1],\n",
              "[-2]])"
            ],
            "text/latex": "$\\displaystyle \\left[\\begin{matrix}5\\\\1\\\\-2\\end{matrix}\\right]$"
          },
          "metadata": {},
          "execution_count": 11
        }
      ]
    },
    {
      "cell_type": "markdown",
      "source": [
        "### Exercise\n",
        "\n",
        "In each of the following, express $\\vec{v}$ in terms of $\\vec{a}$, $\\vec{b}$ and $\\vec{c}$."
      ],
      "metadata": {
        "id": "ACXyaNsDnZX6"
      }
    },
    {
      "cell_type": "code",
      "source": [
        "v = sym.Matrix([3, 3, 9])\n",
        "a = sym.Matrix([1, 1, 0])\n",
        "b = sym.Matrix([1, -1, 6])\n",
        "c = sym.Matrix([-2, 2, -3])"
      ],
      "metadata": {
        "id": "l5WVIaKEnoB7"
      },
      "execution_count": 12,
      "outputs": []
    },
    {
      "cell_type": "code",
      "source": [
        "A = sym.Matrix.hstack(a, b, c, v)\n",
        "A"
      ],
      "metadata": {
        "colab": {
          "base_uri": "https://localhost:8080/",
          "height": 78
        },
        "id": "XiUBGoqBoGoQ",
        "outputId": "50fdc795-2873-42aa-dbcd-d8f15c6c0d58"
      },
      "execution_count": 13,
      "outputs": [
        {
          "output_type": "execute_result",
          "data": {
            "text/plain": [
              "Matrix([\n",
              "[1,  1, -2, 3],\n",
              "[1, -1,  2, 3],\n",
              "[0,  6, -3, 9]])"
            ],
            "text/latex": "$\\displaystyle \\left[\\begin{matrix}1 & 1 & -2 & 3\\\\1 & -1 & 2 & 3\\\\0 & 6 & -3 & 9\\end{matrix}\\right]$"
          },
          "metadata": {},
          "execution_count": 13
        }
      ]
    },
    {
      "cell_type": "code",
      "source": [
        "m1, m2, m3 = A.rref(pivots=False)[:,-1]\n",
        "m1, m2, m3"
      ],
      "metadata": {
        "colab": {
          "base_uri": "https://localhost:8080/"
        },
        "id": "Aad7dyaCpDgw",
        "outputId": "776f7a2b-83c1-4178-e45c-f57f69e09104"
      },
      "execution_count": 14,
      "outputs": [
        {
          "output_type": "execute_result",
          "data": {
            "text/plain": [
              "(3, 2, 1)"
            ]
          },
          "metadata": {},
          "execution_count": 14
        }
      ]
    },
    {
      "cell_type": "markdown",
      "source": [
        "$\\vec{v} = 3\\vec{a} + 2\\vec{b} + \\vec{c}$"
      ],
      "metadata": {
        "id": "1ecTqjE2pJG2"
      }
    },
    {
      "cell_type": "code",
      "source": [
        "v = sym.Matrix([5, 4, 9])\n",
        "a = sym.Matrix([-2, 0, 4])\n",
        "b = sym.Matrix([3, -3, 2])\n",
        "c = sym.Matrix([-1, 2, -1])"
      ],
      "metadata": {
        "id": "K3GwdeEupHso"
      },
      "execution_count": 15,
      "outputs": []
    },
    {
      "cell_type": "code",
      "source": [
        "A = sym.Matrix.hstack(a, b, c)\n",
        "A"
      ],
      "metadata": {
        "colab": {
          "base_uri": "https://localhost:8080/",
          "height": 78
        },
        "id": "vkpqH2Dwr-0P",
        "outputId": "3c7b318f-8185-4c62-d23e-924908543ca3"
      },
      "execution_count": 16,
      "outputs": [
        {
          "output_type": "execute_result",
          "data": {
            "text/plain": [
              "Matrix([\n",
              "[-2,  3, -1],\n",
              "[ 0, -3,  2],\n",
              "[ 4,  2, -1]])"
            ],
            "text/latex": "$\\displaystyle \\left[\\begin{matrix}-2 & 3 & -1\\\\0 & -3 & 2\\\\4 & 2 & -1\\end{matrix}\\right]$"
          },
          "metadata": {},
          "execution_count": 16
        }
      ]
    },
    {
      "cell_type": "code",
      "source": [
        "m1, m2, m3 = A.inv() @ v\n",
        "m1, m2, m3"
      ],
      "metadata": {
        "colab": {
          "base_uri": "https://localhost:8080/"
        },
        "id": "9zxPjL-QsKeK",
        "outputId": "6e258902-8f56-41d9-e967-0eca514ae258"
      },
      "execution_count": 17,
      "outputs": [
        {
          "output_type": "execute_result",
          "data": {
            "text/plain": [
              "(13/7, 50/7, 89/7)"
            ]
          },
          "metadata": {},
          "execution_count": 17
        }
      ]
    },
    {
      "cell_type": "markdown",
      "source": [
        "$\\vec{v} = \\frac{13}{7}\\vec{a} + \\frac{50}{7}\\vec{b} + \\frac{89}{7}\\vec{c}$"
      ],
      "metadata": {
        "id": "trRujQPosiEf"
      }
    },
    {
      "cell_type": "code",
      "source": [
        "v = sym.Matrix([0, 3, 7])\n",
        "a = sym.Matrix([1, 0, -1])\n",
        "b = sym.Matrix([0, 3, 1])\n",
        "c = sym.Matrix([1, -3, 0])"
      ],
      "metadata": {
        "id": "j4k81TMfuC3e"
      },
      "execution_count": 18,
      "outputs": []
    },
    {
      "cell_type": "code",
      "source": [
        "A = sym.Matrix.hstack(a, b, c)\n",
        "A"
      ],
      "metadata": {
        "colab": {
          "base_uri": "https://localhost:8080/",
          "height": 78
        },
        "id": "N0VE0_c2uS2h",
        "outputId": "8f2e5201-d8ae-44a2-d553-9c8a1a10869b"
      },
      "execution_count": 19,
      "outputs": [
        {
          "output_type": "execute_result",
          "data": {
            "text/plain": [
              "Matrix([\n",
              "[ 1, 0,  1],\n",
              "[ 0, 3, -3],\n",
              "[-1, 1,  0]])"
            ],
            "text/latex": "$\\displaystyle \\left[\\begin{matrix}1 & 0 & 1\\\\0 & 3 & -3\\\\-1 & 1 & 0\\end{matrix}\\right]$"
          },
          "metadata": {},
          "execution_count": 19
        }
      ]
    },
    {
      "cell_type": "code",
      "source": [
        "m1, m2, m3 = A.solve(v)\n",
        "m1, m2, m3"
      ],
      "metadata": {
        "colab": {
          "base_uri": "https://localhost:8080/"
        },
        "id": "zIYuCDgKuWs2",
        "outputId": "cf00c61f-1c41-4dae-dbd7-64ac385c969d"
      },
      "execution_count": 20,
      "outputs": [
        {
          "output_type": "execute_result",
          "data": {
            "text/plain": [
              "(-3, 4, 3)"
            ]
          },
          "metadata": {},
          "execution_count": 20
        }
      ]
    },
    {
      "cell_type": "markdown",
      "source": [
        "$\\vec{v} = -3\\vec{a} + 4\\vec{b} + 3\\vec{c}$"
      ],
      "metadata": {
        "id": "njJf8hlLuv9q"
      }
    },
    {
      "cell_type": "code",
      "source": [
        "v = np.array([2, 2, 5]).reshape(-1, 1)\n",
        "a = np.array([1, 2, 4]).reshape(-1, 1)\n",
        "b = np.array([2, -3, -1]).reshape(-1, 1)\n",
        "c = np.array([-1, 2, 1]).reshape(-1, 1)"
      ],
      "metadata": {
        "id": "Qo_ZkEpUxi4u"
      },
      "execution_count": 21,
      "outputs": []
    },
    {
      "cell_type": "code",
      "source": [
        "A = np.hstack([a, b, c])\n",
        "A"
      ],
      "metadata": {
        "colab": {
          "base_uri": "https://localhost:8080/"
        },
        "id": "_nV5vg5gxxqo",
        "outputId": "420ab913-6ea2-4828-9876-1d3c4f62f7c6"
      },
      "execution_count": 22,
      "outputs": [
        {
          "output_type": "execute_result",
          "data": {
            "text/plain": [
              "array([[ 1,  2, -1],\n",
              "       [ 2, -3,  2],\n",
              "       [ 4, -1,  1]])"
            ]
          },
          "metadata": {},
          "execution_count": 22
        }
      ]
    },
    {
      "cell_type": "code",
      "source": [
        "np.linalg.solve(A, v)"
      ],
      "metadata": {
        "colab": {
          "base_uri": "https://localhost:8080/"
        },
        "id": "Vg62xIr1ztMs",
        "outputId": "7fa3a6a2-69eb-4717-ed70-79bd7dad5596"
      },
      "execution_count": 23,
      "outputs": [
        {
          "output_type": "execute_result",
          "data": {
            "text/plain": [
              "array([[1.],\n",
              "       [2.],\n",
              "       [3.]])"
            ]
          },
          "metadata": {},
          "execution_count": 23
        }
      ]
    },
    {
      "cell_type": "code",
      "source": [
        "m1, m2, m3 = np.linalg.solve(A, v)\n",
        "m1[0], m2[0], m3[0]"
      ],
      "metadata": {
        "colab": {
          "base_uri": "https://localhost:8080/"
        },
        "id": "oJNjBFBhz87C",
        "outputId": "d5e267c4-90ff-4e3f-9dd1-d7597bc05af8"
      },
      "execution_count": 24,
      "outputs": [
        {
          "output_type": "execute_result",
          "data": {
            "text/plain": [
              "(1.0000000000000004, 1.9999999999999987, 2.9999999999999973)"
            ]
          },
          "metadata": {},
          "execution_count": 24
        }
      ]
    },
    {
      "cell_type": "markdown",
      "source": [
        "$\\vec{v} = \\vec{a} + 2\\vec{b} + 3\\vec{c}$"
      ],
      "metadata": {
        "id": "MNF74dCu0nPk"
      }
    },
    {
      "cell_type": "markdown",
      "source": [
        "### Exercise\n",
        "\n",
        "Express each of $\\vec{a}$, $\\vec{b}$ and $\\vec{c}$ as linear combinations of the other two"
      ],
      "metadata": {
        "id": "ydGy5BxW1Pb2"
      }
    },
    {
      "cell_type": "code",
      "source": [
        "a = sym.Matrix([2, -4])\n",
        "b = sym.Matrix([-3, 1])\n",
        "c = sym.Matrix([-2, -1])"
      ],
      "metadata": {
        "id": "UzXb4e4G1h7l"
      },
      "execution_count": 25,
      "outputs": []
    },
    {
      "cell_type": "code",
      "source": [
        "A = sym.Matrix.hstack(a, b)\n",
        "A"
      ],
      "metadata": {
        "colab": {
          "base_uri": "https://localhost:8080/",
          "height": 58
        },
        "id": "lva_H2Ks2BYw",
        "outputId": "bae59531-2465-42d5-e8f6-f8652736693b"
      },
      "execution_count": 26,
      "outputs": [
        {
          "output_type": "execute_result",
          "data": {
            "text/plain": [
              "Matrix([\n",
              "[ 2, -3],\n",
              "[-4,  1]])"
            ],
            "text/latex": "$\\displaystyle \\left[\\begin{matrix}2 & -3\\\\-4 & 1\\end{matrix}\\right]$"
          },
          "metadata": {},
          "execution_count": 26
        }
      ]
    },
    {
      "cell_type": "code",
      "source": [
        "m1, m2 = A.solve(c)\n",
        "m1, m2"
      ],
      "metadata": {
        "colab": {
          "base_uri": "https://localhost:8080/"
        },
        "id": "EUUSPoLb2GHn",
        "outputId": "d00a6557-ebcb-4f27-e8b2-6df92fc56a4d"
      },
      "execution_count": 27,
      "outputs": [
        {
          "output_type": "execute_result",
          "data": {
            "text/plain": [
              "(1/2, 1)"
            ]
          },
          "metadata": {},
          "execution_count": 27
        }
      ]
    },
    {
      "cell_type": "code",
      "source": [
        "A = sym.Matrix.hstack(a, c)\n",
        "A"
      ],
      "metadata": {
        "colab": {
          "base_uri": "https://localhost:8080/",
          "height": 58
        },
        "id": "YIInnkeq2xTY",
        "outputId": "cdc2f5ac-557c-45f5-b012-e7d18d5a40fb"
      },
      "execution_count": 28,
      "outputs": [
        {
          "output_type": "execute_result",
          "data": {
            "text/plain": [
              "Matrix([\n",
              "[ 2, -2],\n",
              "[-4, -1]])"
            ],
            "text/latex": "$\\displaystyle \\left[\\begin{matrix}2 & -2\\\\-4 & -1\\end{matrix}\\right]$"
          },
          "metadata": {},
          "execution_count": 28
        }
      ]
    },
    {
      "cell_type": "code",
      "source": [
        "m1, m2 = A.inv() @ b\n",
        "m1, m2"
      ],
      "metadata": {
        "colab": {
          "base_uri": "https://localhost:8080/"
        },
        "id": "WULQqsHq254S",
        "outputId": "f5a24fbb-b461-4395-b1f5-c80732387d53"
      },
      "execution_count": 29,
      "outputs": [
        {
          "output_type": "execute_result",
          "data": {
            "text/plain": [
              "(-1/2, 1)"
            ]
          },
          "metadata": {},
          "execution_count": 29
        }
      ]
    },
    {
      "cell_type": "code",
      "source": [
        "A = sym.Matrix.hstack(b, c, a)\n",
        "A"
      ],
      "metadata": {
        "colab": {
          "base_uri": "https://localhost:8080/",
          "height": 58
        },
        "id": "yRCINHOn3rFD",
        "outputId": "d720887b-141d-4065-c66c-9e3b2f92c262"
      },
      "execution_count": 30,
      "outputs": [
        {
          "output_type": "execute_result",
          "data": {
            "text/plain": [
              "Matrix([\n",
              "[-3, -2,  2],\n",
              "[ 1, -1, -4]])"
            ],
            "text/latex": "$\\displaystyle \\left[\\begin{matrix}-3 & -2 & 2\\\\1 & -1 & -4\\end{matrix}\\right]$"
          },
          "metadata": {},
          "execution_count": 30
        }
      ]
    },
    {
      "cell_type": "code",
      "source": [
        "m1, m2 = A.rref(pivots=False)[:, -1]\n",
        "m1, m2"
      ],
      "metadata": {
        "colab": {
          "base_uri": "https://localhost:8080/"
        },
        "id": "Ai8ai0X43zkL",
        "outputId": "f5db271d-8752-45ce-8ee6-596e195167bb"
      },
      "execution_count": 31,
      "outputs": [
        {
          "output_type": "execute_result",
          "data": {
            "text/plain": [
              "(-2, 2)"
            ]
          },
          "metadata": {},
          "execution_count": 31
        }
      ]
    },
    {
      "cell_type": "markdown",
      "source": [
        "$\\vec{c} = \\frac{1}{2}\\vec{a} + \\vec{b}$\n",
        "\n",
        "$\\vec{b} = -\\frac{1}{2}\\vec{a} + \\vec{c}$\n",
        "\n",
        "$\\vec{a} = -2\\vec{b} + 2\\vec{c}$"
      ],
      "metadata": {
        "id": "aJ6VESgY2Sd3"
      }
    },
    {
      "cell_type": "markdown",
      "source": [
        "### Exercise\n",
        "\n",
        "Deterimine whether or not the following vectors are linearly dependent."
      ],
      "metadata": {
        "id": "Zy2Iy88J4TD6"
      }
    },
    {
      "cell_type": "code",
      "source": [
        "# part a\n",
        "a = sym.Matrix([-2, 1, 5])\n",
        "b = sym.Matrix([4, -2, -10])"
      ],
      "metadata": {
        "id": "ikU2hCGl4fwn"
      },
      "execution_count": 32,
      "outputs": []
    },
    {
      "cell_type": "code",
      "source": [
        "# solve for ak = b\n",
        "a.solve(b)"
      ],
      "metadata": {
        "colab": {
          "base_uri": "https://localhost:8080/",
          "height": 38
        },
        "id": "EW6hDT-c4yRY",
        "outputId": "c5c2d506-80ba-4e4a-9b9b-67a0fd86f831"
      },
      "execution_count": 33,
      "outputs": [
        {
          "output_type": "execute_result",
          "data": {
            "text/plain": [
              "Matrix([[-2]])"
            ],
            "text/latex": "$\\displaystyle \\left[\\begin{matrix}-2\\end{matrix}\\right]$"
          },
          "metadata": {},
          "execution_count": 33
        }
      ]
    },
    {
      "cell_type": "code",
      "source": [
        "A = sym.Matrix.hstack(a, b, sym.Matrix([0, 0, 0]))\n",
        "A"
      ],
      "metadata": {
        "colab": {
          "base_uri": "https://localhost:8080/",
          "height": 78
        },
        "id": "Ip0o_q8W6beW",
        "outputId": "2b9fc4ed-2371-453b-8d13-099065a89bed"
      },
      "execution_count": 34,
      "outputs": [
        {
          "output_type": "execute_result",
          "data": {
            "text/plain": [
              "Matrix([\n",
              "[-2,   4, 0],\n",
              "[ 1,  -2, 0],\n",
              "[ 5, -10, 0]])"
            ],
            "text/latex": "$\\displaystyle \\left[\\begin{matrix}-2 & 4 & 0\\\\1 & -2 & 0\\\\5 & -10 & 0\\end{matrix}\\right]$"
          },
          "metadata": {},
          "execution_count": 34
        }
      ]
    },
    {
      "cell_type": "code",
      "source": [
        "A.rref(pivots=False)"
      ],
      "metadata": {
        "colab": {
          "base_uri": "https://localhost:8080/",
          "height": 78
        },
        "id": "v1Kcyz126hmo",
        "outputId": "ae5fd0bf-f1e6-4303-801c-e4fc251a1e4d"
      },
      "execution_count": 35,
      "outputs": [
        {
          "output_type": "execute_result",
          "data": {
            "text/plain": [
              "Matrix([\n",
              "[1, -2, 0],\n",
              "[0,  0, 0],\n",
              "[0,  0, 0]])"
            ],
            "text/latex": "$\\displaystyle \\left[\\begin{matrix}1 & -2 & 0\\\\0 & 0 & 0\\\\0 & 0 & 0\\end{matrix}\\right]$"
          },
          "metadata": {},
          "execution_count": 35
        }
      ]
    },
    {
      "cell_type": "code",
      "source": [
        "b == -2 * a"
      ],
      "metadata": {
        "colab": {
          "base_uri": "https://localhost:8080/"
        },
        "id": "98rbsvD-7G62",
        "outputId": "79784828-def6-4dc7-d0c3-bf4be049d763"
      },
      "execution_count": 36,
      "outputs": [
        {
          "output_type": "execute_result",
          "data": {
            "text/plain": [
              "True"
            ]
          },
          "metadata": {},
          "execution_count": 36
        }
      ]
    },
    {
      "cell_type": "markdown",
      "source": [
        "$b = -2a$ so $a$ and $b$ are linearly dependent."
      ],
      "metadata": {
        "id": "0McCLY2F5E5k"
      }
    },
    {
      "cell_type": "code",
      "source": [
        "# part b\n",
        "a = sym.Matrix([0, 1, -3])\n",
        "b = sym.Matrix([-3, 5, 2])\n",
        "c = sym.Matrix([-4, 1, 7])"
      ],
      "metadata": {
        "id": "wnEld69r6Ooz"
      },
      "execution_count": 37,
      "outputs": []
    },
    {
      "cell_type": "code",
      "source": [
        "A = sym.Matrix.hstack(a, b, c)\n",
        "A"
      ],
      "metadata": {
        "colab": {
          "base_uri": "https://localhost:8080/",
          "height": 78
        },
        "id": "qfyPgTi17V0P",
        "outputId": "d8a9e986-ee6c-4faf-970d-88a88d7132ce"
      },
      "execution_count": 38,
      "outputs": [
        {
          "output_type": "execute_result",
          "data": {
            "text/plain": [
              "Matrix([\n",
              "[ 0, -3, -4],\n",
              "[ 1,  5,  1],\n",
              "[-3,  2,  7]])"
            ],
            "text/latex": "$\\displaystyle \\left[\\begin{matrix}0 & -3 & -4\\\\1 & 5 & 1\\\\-3 & 2 & 7\\end{matrix}\\right]$"
          },
          "metadata": {},
          "execution_count": 38
        }
      ]
    },
    {
      "cell_type": "code",
      "source": [
        "A.solve(sym.Matrix([0, 0, 0])) # only the trivial solution"
      ],
      "metadata": {
        "colab": {
          "base_uri": "https://localhost:8080/",
          "height": 78
        },
        "id": "K54LRKRI7eyK",
        "outputId": "d2b027fd-7639-43a8-df73-cda0e29e0a44"
      },
      "execution_count": 39,
      "outputs": [
        {
          "output_type": "execute_result",
          "data": {
            "text/plain": [
              "Matrix([\n",
              "[0],\n",
              "[0],\n",
              "[0]])"
            ],
            "text/latex": "$\\displaystyle \\left[\\begin{matrix}0\\\\0\\\\0\\end{matrix}\\right]$"
          },
          "metadata": {},
          "execution_count": 39
        }
      ]
    },
    {
      "cell_type": "code",
      "source": [
        "A.inv() * sym.Matrix([0, 0, 0]) # only the trivial solution"
      ],
      "metadata": {
        "colab": {
          "base_uri": "https://localhost:8080/",
          "height": 78
        },
        "id": "B_jtR6gZ7oea",
        "outputId": "d6a198fa-a575-4ab2-8f1c-9e83d6a02c45"
      },
      "execution_count": 40,
      "outputs": [
        {
          "output_type": "execute_result",
          "data": {
            "text/plain": [
              "Matrix([\n",
              "[0],\n",
              "[0],\n",
              "[0]])"
            ],
            "text/latex": "$\\displaystyle \\left[\\begin{matrix}0\\\\0\\\\0\\end{matrix}\\right]$"
          },
          "metadata": {},
          "execution_count": 40
        }
      ]
    },
    {
      "cell_type": "code",
      "source": [
        "A = sym.Matrix.hstack(a, b, c, sym.Matrix([0, 0, 0]))\n",
        "A"
      ],
      "metadata": {
        "colab": {
          "base_uri": "https://localhost:8080/",
          "height": 78
        },
        "id": "oW4Hfxvd7x9v",
        "outputId": "6cef998e-d604-479d-cc83-a1f41b424235"
      },
      "execution_count": 41,
      "outputs": [
        {
          "output_type": "execute_result",
          "data": {
            "text/plain": [
              "Matrix([\n",
              "[ 0, -3, -4, 0],\n",
              "[ 1,  5,  1, 0],\n",
              "[-3,  2,  7, 0]])"
            ],
            "text/latex": "$\\displaystyle \\left[\\begin{matrix}0 & -3 & -4 & 0\\\\1 & 5 & 1 & 0\\\\-3 & 2 & 7 & 0\\end{matrix}\\right]$"
          },
          "metadata": {},
          "execution_count": 41
        }
      ]
    },
    {
      "cell_type": "code",
      "source": [
        "A.rref(pivots=False) # only the trivial solution"
      ],
      "metadata": {
        "colab": {
          "base_uri": "https://localhost:8080/",
          "height": 78
        },
        "id": "1W8ZpdXQ79Ml",
        "outputId": "67d14e86-c871-4cba-e004-3272335b221e"
      },
      "execution_count": 42,
      "outputs": [
        {
          "output_type": "execute_result",
          "data": {
            "text/plain": [
              "Matrix([\n",
              "[1, 0, 0, 0],\n",
              "[0, 1, 0, 0],\n",
              "[0, 0, 1, 0]])"
            ],
            "text/latex": "$\\displaystyle \\left[\\begin{matrix}1 & 0 & 0 & 0\\\\0 & 1 & 0 & 0\\\\0 & 0 & 1 & 0\\end{matrix}\\right]$"
          },
          "metadata": {},
          "execution_count": 42
        }
      ]
    },
    {
      "cell_type": "markdown",
      "source": [
        "$m_1\\vec{a} + m_2\\vec{b} + m_3\\vec{c} = \\vec{0}$ has only the trivial solution.\n",
        "\n",
        "$\\therefore$ these 3 vectors are linearly independent."
      ],
      "metadata": {
        "id": "UiiTIQ6F8E7z"
      }
    },
    {
      "cell_type": "code",
      "source": [
        "# part c\n",
        "a = sym.Matrix([-1, 2])\n",
        "b = sym.Matrix([-3, 5])\n",
        "c = sym.Matrix([0, 3])"
      ],
      "metadata": {
        "id": "-kSvgWBx9Ze2"
      },
      "execution_count": 43,
      "outputs": []
    },
    {
      "cell_type": "code",
      "source": [
        "A = sym.Matrix.hstack(a, b, c, sym.Matrix([0, 0]))\n",
        "A"
      ],
      "metadata": {
        "colab": {
          "base_uri": "https://localhost:8080/",
          "height": 58
        },
        "id": "_I-qCfGI9-Na",
        "outputId": "9a049c24-044e-4866-9726-05b000d71e7d"
      },
      "execution_count": 44,
      "outputs": [
        {
          "output_type": "execute_result",
          "data": {
            "text/plain": [
              "Matrix([\n",
              "[-1, -3, 0, 0],\n",
              "[ 2,  5, 3, 0]])"
            ],
            "text/latex": "$\\displaystyle \\left[\\begin{matrix}-1 & -3 & 0 & 0\\\\2 & 5 & 3 & 0\\end{matrix}\\right]$"
          },
          "metadata": {},
          "execution_count": 44
        }
      ]
    },
    {
      "cell_type": "code",
      "source": [
        "A.rref(pivots=False)"
      ],
      "metadata": {
        "colab": {
          "base_uri": "https://localhost:8080/",
          "height": 58
        },
        "id": "wRagSBUC-Ehb",
        "outputId": "4af41c60-03f6-48a0-d3da-fdd999d892bd"
      },
      "execution_count": 45,
      "outputs": [
        {
          "output_type": "execute_result",
          "data": {
            "text/plain": [
              "Matrix([\n",
              "[1, 0,  9, 0],\n",
              "[0, 1, -3, 0]])"
            ],
            "text/latex": "$\\displaystyle \\left[\\begin{matrix}1 & 0 & 9 & 0\\\\0 & 1 & -3 & 0\\end{matrix}\\right]$"
          },
          "metadata": {},
          "execution_count": 45
        }
      ]
    },
    {
      "cell_type": "code",
      "source": [
        "m1, m2, m3 = sym.symbols('m_1 m_2 m_3')"
      ],
      "metadata": {
        "id": "2_H2k7uw-daz"
      },
      "execution_count": 46,
      "outputs": []
    },
    {
      "cell_type": "markdown",
      "source": [
        "$m_1 = -9m_3$\n",
        "\n",
        "$m_2 = 3m_3$"
      ],
      "metadata": {
        "id": "8VxQjSQI-nL3"
      }
    },
    {
      "cell_type": "code",
      "source": [
        "M = sym.Matrix([-9*m3, 3*m3, m3])\n",
        "M"
      ],
      "metadata": {
        "colab": {
          "base_uri": "https://localhost:8080/",
          "height": 78
        },
        "id": "iCwWIX_6-6OS",
        "outputId": "1ee7a511-cbec-4dbb-dac9-3e6d1258ee48"
      },
      "execution_count": 47,
      "outputs": [
        {
          "output_type": "execute_result",
          "data": {
            "text/plain": [
              "Matrix([\n",
              "[-9*m_3],\n",
              "[ 3*m_3],\n",
              "[   m_3]])"
            ],
            "text/latex": "$\\displaystyle \\left[\\begin{matrix}- 9 m_{3}\\\\3 m_{3}\\\\m_{3}\\end{matrix}\\right]$"
          },
          "metadata": {},
          "execution_count": 47
        }
      ]
    },
    {
      "cell_type": "code",
      "source": [
        "A = A[:, 0:3]\n",
        "A"
      ],
      "metadata": {
        "colab": {
          "base_uri": "https://localhost:8080/",
          "height": 58
        },
        "id": "Zj-GT__4_MBe",
        "outputId": "9986cbb7-cc74-4cce-b833-ba6037ffa940"
      },
      "execution_count": 48,
      "outputs": [
        {
          "output_type": "execute_result",
          "data": {
            "text/plain": [
              "Matrix([\n",
              "[-1, -3, 0],\n",
              "[ 2,  5, 3]])"
            ],
            "text/latex": "$\\displaystyle \\left[\\begin{matrix}-1 & -3 & 0\\\\2 & 5 & 3\\end{matrix}\\right]$"
          },
          "metadata": {},
          "execution_count": 48
        }
      ]
    },
    {
      "cell_type": "code",
      "source": [
        "A @ M"
      ],
      "metadata": {
        "colab": {
          "base_uri": "https://localhost:8080/",
          "height": 58
        },
        "id": "G4jmZWWq_VAu",
        "outputId": "adfbe2c5-0a36-432a-f5af-5a7afb8cde25"
      },
      "execution_count": 49,
      "outputs": [
        {
          "output_type": "execute_result",
          "data": {
            "text/plain": [
              "Matrix([\n",
              "[0],\n",
              "[0]])"
            ],
            "text/latex": "$\\displaystyle \\left[\\begin{matrix}0\\\\0\\end{matrix}\\right]$"
          },
          "metadata": {},
          "execution_count": 49
        }
      ]
    },
    {
      "cell_type": "code",
      "source": [
        "m1, m2, m3 = M.subs({m3: 1})\n",
        "m1, m2, m3"
      ],
      "metadata": {
        "colab": {
          "base_uri": "https://localhost:8080/"
        },
        "id": "-kQrc-8C_Zl8",
        "outputId": "efc3fd4b-1014-49d6-ed58-86f992bcb5f5"
      },
      "execution_count": 50,
      "outputs": [
        {
          "output_type": "execute_result",
          "data": {
            "text/plain": [
              "(-9, 3, 1)"
            ]
          },
          "metadata": {},
          "execution_count": 50
        }
      ]
    },
    {
      "cell_type": "code",
      "source": [
        "-9 * a + 3 * b + c"
      ],
      "metadata": {
        "colab": {
          "base_uri": "https://localhost:8080/",
          "height": 58
        },
        "id": "YackQYZU_jFv",
        "outputId": "1a76da9f-46e6-4cea-ef98-d2145e565d7c"
      },
      "execution_count": 51,
      "outputs": [
        {
          "output_type": "execute_result",
          "data": {
            "text/plain": [
              "Matrix([\n",
              "[0],\n",
              "[0]])"
            ],
            "text/latex": "$\\displaystyle \\left[\\begin{matrix}0\\\\0\\end{matrix}\\right]$"
          },
          "metadata": {},
          "execution_count": 51
        }
      ]
    },
    {
      "cell_type": "markdown",
      "source": [
        "$-9\\vec{a} + 3\\vec{b} + \\vec{c} = \\vec{0}$\n",
        "\n",
        "$\\therefore$ these 3 vectors are linearly dependent"
      ],
      "metadata": {
        "id": "GYXWhp2x_ubC"
      }
    },
    {
      "cell_type": "code",
      "source": [
        "# part d\n",
        "m1, m2, m3 = sym.symbols('m_1 m_2 m_3')\n",
        "a = sym.Matrix([5, -7])\n",
        "b = sym.Matrix([3, 4])\n",
        "c = sym.Matrix([-4, 6])"
      ],
      "metadata": {
        "id": "Q5-2yk8OCgfI"
      },
      "execution_count": 52,
      "outputs": []
    },
    {
      "cell_type": "code",
      "source": [
        "A = sym.Matrix.hstack(a, b, c, sym.Matrix([0, 0]))\n",
        "A"
      ],
      "metadata": {
        "colab": {
          "base_uri": "https://localhost:8080/",
          "height": 58
        },
        "id": "2CBvf0iJC4Kf",
        "outputId": "e90f2e3e-a751-470b-c8c7-796d4b26d779"
      },
      "execution_count": 53,
      "outputs": [
        {
          "output_type": "execute_result",
          "data": {
            "text/plain": [
              "Matrix([\n",
              "[ 5, 3, -4, 0],\n",
              "[-7, 4,  6, 0]])"
            ],
            "text/latex": "$\\displaystyle \\left[\\begin{matrix}5 & 3 & -4 & 0\\\\-7 & 4 & 6 & 0\\end{matrix}\\right]$"
          },
          "metadata": {},
          "execution_count": 53
        }
      ]
    },
    {
      "cell_type": "code",
      "source": [
        "A.rref(pivots=False)"
      ],
      "metadata": {
        "colab": {
          "base_uri": "https://localhost:8080/",
          "height": 58
        },
        "id": "Nq7C9kvUDANL",
        "outputId": "575269e4-6e6b-4139-c8e3-8e67222b6d49"
      },
      "execution_count": 54,
      "outputs": [
        {
          "output_type": "execute_result",
          "data": {
            "text/plain": [
              "Matrix([\n",
              "[1, 0, -34/41, 0],\n",
              "[0, 1,   2/41, 0]])"
            ],
            "text/latex": "$\\displaystyle \\left[\\begin{matrix}1 & 0 & - \\frac{34}{41} & 0\\\\0 & 1 & \\frac{2}{41} & 0\\end{matrix}\\right]$"
          },
          "metadata": {},
          "execution_count": 54
        }
      ]
    },
    {
      "cell_type": "markdown",
      "source": [
        "$m1 = \\frac{34}{41}m3$\n",
        "\n",
        "$m2 = -\\frac{2}{41}m3$"
      ],
      "metadata": {
        "id": "974VfQaKDUhO"
      }
    },
    {
      "cell_type": "code",
      "source": [
        "M = sym.Matrix([sym.Rational(34, 41) * m3,\n",
        "                -sym.Rational(2, 41) * m3,\n",
        "                m3])\n",
        "M"
      ],
      "metadata": {
        "colab": {
          "base_uri": "https://localhost:8080/",
          "height": 79
        },
        "id": "qz47xBtLDjJp",
        "outputId": "82b2a409-07b7-4788-def3-656b3bb2afab"
      },
      "execution_count": 55,
      "outputs": [
        {
          "output_type": "execute_result",
          "data": {
            "text/plain": [
              "Matrix([\n",
              "[34*m_3/41],\n",
              "[-2*m_3/41],\n",
              "[      m_3]])"
            ],
            "text/latex": "$\\displaystyle \\left[\\begin{matrix}\\frac{34 m_{3}}{41}\\\\- \\frac{2 m_{3}}{41}\\\\m_{3}\\end{matrix}\\right]$"
          },
          "metadata": {},
          "execution_count": 55
        }
      ]
    },
    {
      "cell_type": "code",
      "source": [
        "A = A[:, 0:3]\n",
        "A"
      ],
      "metadata": {
        "colab": {
          "base_uri": "https://localhost:8080/",
          "height": 58
        },
        "id": "m2NgLrl5D1HD",
        "outputId": "9d8b1a03-08ba-44dd-954f-64e2d2b79a0d"
      },
      "execution_count": 56,
      "outputs": [
        {
          "output_type": "execute_result",
          "data": {
            "text/plain": [
              "Matrix([\n",
              "[ 5, 3, -4],\n",
              "[-7, 4,  6]])"
            ],
            "text/latex": "$\\displaystyle \\left[\\begin{matrix}5 & 3 & -4\\\\-7 & 4 & 6\\end{matrix}\\right]$"
          },
          "metadata": {},
          "execution_count": 56
        }
      ]
    },
    {
      "cell_type": "code",
      "source": [
        "A @ M"
      ],
      "metadata": {
        "colab": {
          "base_uri": "https://localhost:8080/",
          "height": 58
        },
        "id": "DW1yq43XEAgZ",
        "outputId": "b952a087-e24f-4bfe-d7bd-6644dea4a502"
      },
      "execution_count": 57,
      "outputs": [
        {
          "output_type": "execute_result",
          "data": {
            "text/plain": [
              "Matrix([\n",
              "[0],\n",
              "[0]])"
            ],
            "text/latex": "$\\displaystyle \\left[\\begin{matrix}0\\\\0\\end{matrix}\\right]$"
          },
          "metadata": {},
          "execution_count": 57
        }
      ]
    },
    {
      "cell_type": "code",
      "source": [
        "m1, m2, m3 = M.subs({m3: 41})\n",
        "m1, m2, m3"
      ],
      "metadata": {
        "colab": {
          "base_uri": "https://localhost:8080/"
        },
        "id": "2j_ZfMyHEC12",
        "outputId": "3c4e763f-04b8-4998-e830-e7ffe6ccd71f"
      },
      "execution_count": 58,
      "outputs": [
        {
          "output_type": "execute_result",
          "data": {
            "text/plain": [
              "(34, -2, 41)"
            ]
          },
          "metadata": {},
          "execution_count": 58
        }
      ]
    },
    {
      "cell_type": "code",
      "source": [
        "m1 * a + m2 * b + m3 * c"
      ],
      "metadata": {
        "colab": {
          "base_uri": "https://localhost:8080/",
          "height": 58
        },
        "id": "kFTXjKo8GYUt",
        "outputId": "06f64abf-6940-4bb2-a7d8-13f29ebfbd29"
      },
      "execution_count": 59,
      "outputs": [
        {
          "output_type": "execute_result",
          "data": {
            "text/plain": [
              "Matrix([\n",
              "[0],\n",
              "[0]])"
            ],
            "text/latex": "$\\displaystyle \\left[\\begin{matrix}0\\\\0\\end{matrix}\\right]$"
          },
          "metadata": {},
          "execution_count": 59
        }
      ]
    },
    {
      "cell_type": "markdown",
      "source": [
        "$34\\vec{a} - 2\\vec{b} + 41\\vec{c} = \\vec{0}$\n",
        "\n",
        "$\\therefore$ these vectors are linearly dependent."
      ],
      "metadata": {
        "id": "EdQRoSMwGTUj"
      }
    },
    {
      "cell_type": "markdown",
      "source": [
        "## Magnitude of a Vector"
      ],
      "metadata": {
        "id": "YwzoEWn0Hc1n"
      }
    },
    {
      "cell_type": "markdown",
      "source": [
        "### Length or Magnitude of a Vector\n",
        "\n",
        "Let $\\mathbf{v} = \\begin{bmatrix}v_1\\\\v2\\\\\\vdots\\\\v_k\\end{bmatrix}$ be a vector.\n",
        "\n",
        "The magnitude of $\\mathbf{v}$ is as follows:\n",
        "\n",
        "$$\n",
        "\\begin{align}\n",
        "\\left|\\mathbf{v}\\right| &= \\sqrt{{v_1}^{2} + {v_2}^{2} + \\cdots + {v_k}^{2}} \\\\\n",
        "&= \\sqrt{\\mathbf{v} \\cdot \\mathbf{v}}\n",
        "\\end{align}\n",
        "$$"
      ],
      "metadata": {
        "id": "1BhjIiRVH_iZ"
      }
    },
    {
      "cell_type": "markdown",
      "source": [
        "### Unit Vector Definition\n",
        "\n",
        "A vector, $\\mathbf{v}$ is a unit vector if and only if\n",
        "\n",
        "$$\n",
        "\\left|\\mathbf{v}\\right| = 1\n",
        "$$"
      ],
      "metadata": {
        "id": "AZOrslbxLW8q"
      }
    },
    {
      "cell_type": "markdown",
      "source": [
        "### Example\n",
        "\n",
        "Prove that $\\mathbf{a} = \\begin{bmatrix}\\frac{1}{\\sqrt{2}}\\\\\\frac{1}{\\sqrt{2}}\\end{bmatrix}$ is a unit vector."
      ],
      "metadata": {
        "id": "fYHPpVGAMtas"
      }
    },
    {
      "cell_type": "markdown",
      "source": [
        "#### Solution"
      ],
      "metadata": {
        "id": "PZ_6IYw0NFzB"
      }
    },
    {
      "cell_type": "code",
      "source": [
        "a = sym.Matrix([sym.Pow(sym.sqrt(2), -1, evaluate=False),\n",
        "                sym.Pow(sym.sqrt(2), -1, evaluate=False)])\n",
        "a"
      ],
      "metadata": {
        "colab": {
          "base_uri": "https://localhost:8080/",
          "height": 68
        },
        "id": "CSzZlMLkNTPG",
        "outputId": "649adb48-9f0e-40c7-956c-bc0006b2dc1b"
      },
      "execution_count": 60,
      "outputs": [
        {
          "output_type": "execute_result",
          "data": {
            "text/plain": [
              "Matrix([\n",
              "[1/(sqrt(2))],\n",
              "[1/(sqrt(2))]])"
            ],
            "text/latex": "$\\displaystyle \\left[\\begin{matrix}\\frac{1}{\\sqrt{2}}\\\\\\frac{1}{\\sqrt{2}}\\end{matrix}\\right]$"
          },
          "metadata": {},
          "execution_count": 60
        }
      ]
    },
    {
      "cell_type": "code",
      "source": [
        "sym.sqrt(a.dot(a))"
      ],
      "metadata": {
        "colab": {
          "base_uri": "https://localhost:8080/",
          "height": 37
        },
        "id": "4hQBemX8Pxz-",
        "outputId": "e6c72855-8268-4c1d-8ff8-e9fe97a1bcd1"
      },
      "execution_count": 61,
      "outputs": [
        {
          "output_type": "execute_result",
          "data": {
            "text/plain": [
              "1"
            ],
            "text/latex": "$\\displaystyle 1$"
          },
          "metadata": {},
          "execution_count": 61
        }
      ]
    },
    {
      "cell_type": "code",
      "source": [
        "# alternately\n",
        "sym.sqrt(a[0]**2 + a[1]**2)"
      ],
      "metadata": {
        "colab": {
          "base_uri": "https://localhost:8080/",
          "height": 37
        },
        "id": "OJtFFKDmQJiv",
        "outputId": "a1593666-655e-466f-f385-92dd0726d00a"
      },
      "execution_count": 62,
      "outputs": [
        {
          "output_type": "execute_result",
          "data": {
            "text/plain": [
              "1"
            ],
            "text/latex": "$\\displaystyle 1$"
          },
          "metadata": {},
          "execution_count": 62
        }
      ]
    },
    {
      "cell_type": "markdown",
      "source": [
        "### Example\n",
        "\n",
        "Normalize the vector $\\mathbf{a} = \\begin{bmatrix}1\\\\2\\\\3\\end{bmatrix}$"
      ],
      "metadata": {
        "id": "EJZa5X8fQCbl"
      }
    },
    {
      "cell_type": "markdown",
      "source": [
        "#### Solution"
      ],
      "metadata": {
        "id": "NS02uwlsQxX8"
      }
    },
    {
      "cell_type": "markdown",
      "source": [
        "To **normalize** a vector means to replace it with a unit vector that points in the same direction. Let $\\mathbf{v}$ be that vector.\n",
        "\n",
        "$$\n",
        "\\mathbf{v} = \\frac{1}{\\left|\\mathbf{a}\\right|}\\mathbf{a}\n",
        "$$"
      ],
      "metadata": {
        "id": "0SY4XxcvQv8d"
      }
    },
    {
      "cell_type": "code",
      "source": [
        "a = sym.Matrix([1, 2, 3])\n",
        "a"
      ],
      "metadata": {
        "colab": {
          "base_uri": "https://localhost:8080/",
          "height": 78
        },
        "id": "w5JBx-ZzRsEq",
        "outputId": "600208dc-f1c2-4069-c613-add0b8585460"
      },
      "execution_count": 63,
      "outputs": [
        {
          "output_type": "execute_result",
          "data": {
            "text/plain": [
              "Matrix([\n",
              "[1],\n",
              "[2],\n",
              "[3]])"
            ],
            "text/latex": "$\\displaystyle \\left[\\begin{matrix}1\\\\2\\\\3\\end{matrix}\\right]$"
          },
          "metadata": {},
          "execution_count": 63
        }
      ]
    },
    {
      "cell_type": "code",
      "source": [
        "sym.Pow(sym.sqrt(a.dot(a)), -1) * a"
      ],
      "metadata": {
        "colab": {
          "base_uri": "https://localhost:8080/",
          "height": 88
        },
        "id": "cl5WHN1pR6Xv",
        "outputId": "8d4850ea-635c-4efe-e23b-f97cb830c5a0"
      },
      "execution_count": 64,
      "outputs": [
        {
          "output_type": "execute_result",
          "data": {
            "text/plain": [
              "Matrix([\n",
              "[  sqrt(14)/14],\n",
              "[   sqrt(14)/7],\n",
              "[3*sqrt(14)/14]])"
            ],
            "text/latex": "$\\displaystyle \\left[\\begin{matrix}\\frac{\\sqrt{14}}{14}\\\\\\frac{\\sqrt{14}}{7}\\\\\\frac{3 \\sqrt{14}}{14}\\end{matrix}\\right]$"
          },
          "metadata": {},
          "execution_count": 64
        }
      ]
    }
  ]
}